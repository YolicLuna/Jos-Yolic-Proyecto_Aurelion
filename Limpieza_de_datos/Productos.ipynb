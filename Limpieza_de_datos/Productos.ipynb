{
 "cells": [
  {
   "cell_type": "code",
   "execution_count": 22,
   "id": "bd5f971b",
   "metadata": {},
   "outputs": [],
   "source": [
    "import pandas as pd\n",
    "import numpy as np"
   ]
  },
  {
   "cell_type": "code",
   "execution_count": 23,
   "id": "903ef5a8",
   "metadata": {},
   "outputs": [
    {
     "data": {
      "text/html": [
       "<div>\n",
       "<style scoped>\n",
       "    .dataframe tbody tr th:only-of-type {\n",
       "        vertical-align: middle;\n",
       "    }\n",
       "\n",
       "    .dataframe tbody tr th {\n",
       "        vertical-align: top;\n",
       "    }\n",
       "\n",
       "    .dataframe thead th {\n",
       "        text-align: right;\n",
       "    }\n",
       "</style>\n",
       "<table border=\"1\" class=\"dataframe\">\n",
       "  <thead>\n",
       "    <tr style=\"text-align: right;\">\n",
       "      <th></th>\n",
       "      <th>id_producto</th>\n",
       "      <th>nombre_producto</th>\n",
       "      <th>categoria</th>\n",
       "      <th>precio_unitario</th>\n",
       "    </tr>\n",
       "  </thead>\n",
       "  <tbody>\n",
       "    <tr>\n",
       "      <th>0</th>\n",
       "      <td>1</td>\n",
       "      <td>Coca Cola 1.5L</td>\n",
       "      <td>Alimentos</td>\n",
       "      <td>2347</td>\n",
       "    </tr>\n",
       "    <tr>\n",
       "      <th>1</th>\n",
       "      <td>2</td>\n",
       "      <td>Pepsi 1.5L</td>\n",
       "      <td>Limpieza</td>\n",
       "      <td>4973</td>\n",
       "    </tr>\n",
       "    <tr>\n",
       "      <th>2</th>\n",
       "      <td>3</td>\n",
       "      <td>Sprite 1.5L</td>\n",
       "      <td>Alimentos</td>\n",
       "      <td>4964</td>\n",
       "    </tr>\n",
       "    <tr>\n",
       "      <th>3</th>\n",
       "      <td>4</td>\n",
       "      <td>Fanta Naranja 1.5L</td>\n",
       "      <td>Limpieza</td>\n",
       "      <td>2033</td>\n",
       "    </tr>\n",
       "    <tr>\n",
       "      <th>4</th>\n",
       "      <td>5</td>\n",
       "      <td>Agua Mineral 500ml</td>\n",
       "      <td>Alimentos</td>\n",
       "      <td>4777</td>\n",
       "    </tr>\n",
       "    <tr>\n",
       "      <th>...</th>\n",
       "      <td>...</td>\n",
       "      <td>...</td>\n",
       "      <td>...</td>\n",
       "      <td>...</td>\n",
       "    </tr>\n",
       "    <tr>\n",
       "      <th>95</th>\n",
       "      <td>96</td>\n",
       "      <td>Suavizante 1L</td>\n",
       "      <td>Limpieza</td>\n",
       "      <td>4920</td>\n",
       "    </tr>\n",
       "    <tr>\n",
       "      <th>96</th>\n",
       "      <td>97</td>\n",
       "      <td>Limpiavidrios 500ml</td>\n",
       "      <td>Alimentos</td>\n",
       "      <td>872</td>\n",
       "    </tr>\n",
       "    <tr>\n",
       "      <th>97</th>\n",
       "      <td>98</td>\n",
       "      <td>Desengrasante 500ml</td>\n",
       "      <td>Limpieza</td>\n",
       "      <td>2843</td>\n",
       "    </tr>\n",
       "    <tr>\n",
       "      <th>98</th>\n",
       "      <td>99</td>\n",
       "      <td>Esponjas x3</td>\n",
       "      <td>Alimentos</td>\n",
       "      <td>2430</td>\n",
       "    </tr>\n",
       "    <tr>\n",
       "      <th>99</th>\n",
       "      <td>100</td>\n",
       "      <td>Trapo de Piso</td>\n",
       "      <td>Limpieza</td>\n",
       "      <td>4854</td>\n",
       "    </tr>\n",
       "  </tbody>\n",
       "</table>\n",
       "<p>100 rows × 4 columns</p>\n",
       "</div>"
      ],
      "text/plain": [
       "    id_producto      nombre_producto  categoria  precio_unitario\n",
       "0             1       Coca Cola 1.5L  Alimentos             2347\n",
       "1             2           Pepsi 1.5L   Limpieza             4973\n",
       "2             3          Sprite 1.5L  Alimentos             4964\n",
       "3             4   Fanta Naranja 1.5L   Limpieza             2033\n",
       "4             5   Agua Mineral 500ml  Alimentos             4777\n",
       "..          ...                  ...        ...              ...\n",
       "95           96        Suavizante 1L   Limpieza             4920\n",
       "96           97  Limpiavidrios 500ml  Alimentos              872\n",
       "97           98  Desengrasante 500ml   Limpieza             2843\n",
       "98           99          Esponjas x3  Alimentos             2430\n",
       "99          100        Trapo de Piso   Limpieza             4854\n",
       "\n",
       "[100 rows x 4 columns]"
      ]
     },
     "execution_count": 23,
     "metadata": {},
     "output_type": "execute_result"
    }
   ],
   "source": [
    "df = pd.read_excel('../Base_de_datos/Productos.xlsx')\n",
    "df"
   ]
  },
  {
   "cell_type": "markdown",
   "id": "b80229e9",
   "metadata": {},
   "source": [
    "# **1. Analizar problemas con el dataset**"
   ]
  },
  {
   "cell_type": "markdown",
   "id": "21a5f1ed",
   "metadata": {},
   "source": [
    "### **Tipos de datos y valores nulos**"
   ]
  },
  {
   "cell_type": "code",
   "execution_count": 24,
   "id": "c3b5fc6c",
   "metadata": {},
   "outputs": [
    {
     "name": "stdout",
     "output_type": "stream",
     "text": [
      "<class 'pandas.core.frame.DataFrame'>\n",
      "RangeIndex: 100 entries, 0 to 99\n",
      "Data columns (total 4 columns):\n",
      " #   Column           Non-Null Count  Dtype \n",
      "---  ------           --------------  ----- \n",
      " 0   id_producto      100 non-null    int64 \n",
      " 1   nombre_producto  100 non-null    object\n",
      " 2   categoria        100 non-null    object\n",
      " 3   precio_unitario  100 non-null    int64 \n",
      "dtypes: int64(2), object(2)\n",
      "memory usage: 3.3+ KB\n"
     ]
    }
   ],
   "source": [
    "df.info()"
   ]
  },
  {
   "cell_type": "markdown",
   "id": "7c5d873b",
   "metadata": {},
   "source": [
    "### **Estadísticas generales**"
   ]
  },
  {
   "cell_type": "code",
   "execution_count": 25,
   "id": "f3c5a751",
   "metadata": {},
   "outputs": [
    {
     "data": {
      "text/html": [
       "<div>\n",
       "<style scoped>\n",
       "    .dataframe tbody tr th:only-of-type {\n",
       "        vertical-align: middle;\n",
       "    }\n",
       "\n",
       "    .dataframe tbody tr th {\n",
       "        vertical-align: top;\n",
       "    }\n",
       "\n",
       "    .dataframe thead th {\n",
       "        text-align: right;\n",
       "    }\n",
       "</style>\n",
       "<table border=\"1\" class=\"dataframe\">\n",
       "  <thead>\n",
       "    <tr style=\"text-align: right;\">\n",
       "      <th></th>\n",
       "      <th>id_producto</th>\n",
       "      <th>nombre_producto</th>\n",
       "      <th>categoria</th>\n",
       "      <th>precio_unitario</th>\n",
       "    </tr>\n",
       "  </thead>\n",
       "  <tbody>\n",
       "    <tr>\n",
       "      <th>count</th>\n",
       "      <td>100.000000</td>\n",
       "      <td>100</td>\n",
       "      <td>100</td>\n",
       "      <td>100.000000</td>\n",
       "    </tr>\n",
       "    <tr>\n",
       "      <th>unique</th>\n",
       "      <td>NaN</td>\n",
       "      <td>100</td>\n",
       "      <td>2</td>\n",
       "      <td>NaN</td>\n",
       "    </tr>\n",
       "    <tr>\n",
       "      <th>top</th>\n",
       "      <td>NaN</td>\n",
       "      <td>Coca Cola 1.5L</td>\n",
       "      <td>Alimentos</td>\n",
       "      <td>NaN</td>\n",
       "    </tr>\n",
       "    <tr>\n",
       "      <th>freq</th>\n",
       "      <td>NaN</td>\n",
       "      <td>1</td>\n",
       "      <td>50</td>\n",
       "      <td>NaN</td>\n",
       "    </tr>\n",
       "    <tr>\n",
       "      <th>mean</th>\n",
       "      <td>50.500000</td>\n",
       "      <td>NaN</td>\n",
       "      <td>NaN</td>\n",
       "      <td>2718.550000</td>\n",
       "    </tr>\n",
       "    <tr>\n",
       "      <th>std</th>\n",
       "      <td>29.011492</td>\n",
       "      <td>NaN</td>\n",
       "      <td>NaN</td>\n",
       "      <td>1381.635324</td>\n",
       "    </tr>\n",
       "    <tr>\n",
       "      <th>min</th>\n",
       "      <td>1.000000</td>\n",
       "      <td>NaN</td>\n",
       "      <td>NaN</td>\n",
       "      <td>272.000000</td>\n",
       "    </tr>\n",
       "    <tr>\n",
       "      <th>25%</th>\n",
       "      <td>25.750000</td>\n",
       "      <td>NaN</td>\n",
       "      <td>NaN</td>\n",
       "      <td>1590.000000</td>\n",
       "    </tr>\n",
       "    <tr>\n",
       "      <th>50%</th>\n",
       "      <td>50.500000</td>\n",
       "      <td>NaN</td>\n",
       "      <td>NaN</td>\n",
       "      <td>2516.000000</td>\n",
       "    </tr>\n",
       "    <tr>\n",
       "      <th>75%</th>\n",
       "      <td>75.250000</td>\n",
       "      <td>NaN</td>\n",
       "      <td>NaN</td>\n",
       "      <td>4026.500000</td>\n",
       "    </tr>\n",
       "    <tr>\n",
       "      <th>max</th>\n",
       "      <td>100.000000</td>\n",
       "      <td>NaN</td>\n",
       "      <td>NaN</td>\n",
       "      <td>4982.000000</td>\n",
       "    </tr>\n",
       "  </tbody>\n",
       "</table>\n",
       "</div>"
      ],
      "text/plain": [
       "        id_producto nombre_producto  categoria  precio_unitario\n",
       "count    100.000000             100        100       100.000000\n",
       "unique          NaN             100          2              NaN\n",
       "top             NaN  Coca Cola 1.5L  Alimentos              NaN\n",
       "freq            NaN               1         50              NaN\n",
       "mean      50.500000             NaN        NaN      2718.550000\n",
       "std       29.011492             NaN        NaN      1381.635324\n",
       "min        1.000000             NaN        NaN       272.000000\n",
       "25%       25.750000             NaN        NaN      1590.000000\n",
       "50%       50.500000             NaN        NaN      2516.000000\n",
       "75%       75.250000             NaN        NaN      4026.500000\n",
       "max      100.000000             NaN        NaN      4982.000000"
      ]
     },
     "execution_count": 25,
     "metadata": {},
     "output_type": "execute_result"
    }
   ],
   "source": [
    "df.describe(include='all')"
   ]
  },
  {
   "cell_type": "markdown",
   "id": "fbe72dc7",
   "metadata": {},
   "source": [
    "### **Conteo de valores faltantes**"
   ]
  },
  {
   "cell_type": "code",
   "execution_count": 26,
   "id": "78610fd9",
   "metadata": {},
   "outputs": [
    {
     "data": {
      "text/plain": [
       "id_producto        0\n",
       "nombre_producto    0\n",
       "categoria          0\n",
       "precio_unitario    0\n",
       "dtype: int64"
      ]
     },
     "execution_count": 26,
     "metadata": {},
     "output_type": "execute_result"
    }
   ],
   "source": [
    "df.isnull().sum()"
   ]
  },
  {
   "cell_type": "markdown",
   "id": "25f933f8",
   "metadata": {},
   "source": [
    "### **Conteo de filas duplicadas**"
   ]
  },
  {
   "cell_type": "code",
   "execution_count": 27,
   "id": "77963136",
   "metadata": {},
   "outputs": [
    {
     "data": {
      "text/plain": [
       "np.int64(0)"
      ]
     },
     "execution_count": 27,
     "metadata": {},
     "output_type": "execute_result"
    }
   ],
   "source": [
    "df.duplicated().sum()"
   ]
  },
  {
   "cell_type": "markdown",
   "id": "b6a1deb8",
   "metadata": {},
   "source": [
    "### **Frecuencia por categoría**"
   ]
  },
  {
   "cell_type": "code",
   "execution_count": 28,
   "id": "770607cc",
   "metadata": {},
   "outputs": [
    {
     "data": {
      "text/plain": [
       "categoria\n",
       "Alimentos    50\n",
       "Limpieza     50\n",
       "Name: count, dtype: int64"
      ]
     },
     "execution_count": 28,
     "metadata": {},
     "output_type": "execute_result"
    }
   ],
   "source": [
    "df['categoria'].value_counts()"
   ]
  },
  {
   "cell_type": "markdown",
   "id": "04096173",
   "metadata": {},
   "source": [
    "### **Verificación de valores únicos en columnas categóricas**"
   ]
  },
  {
   "cell_type": "code",
   "execution_count": 29,
   "id": "d0c05552",
   "metadata": {},
   "outputs": [
    {
     "data": {
      "text/plain": [
       "array(['Alimentos', 'Limpieza'], dtype=object)"
      ]
     },
     "execution_count": 29,
     "metadata": {},
     "output_type": "execute_result"
    }
   ],
   "source": [
    "df['categoria'].unique()"
   ]
  },
  {
   "cell_type": "markdown",
   "id": "5234a884",
   "metadata": {},
   "source": [
    "### **Verificación de rangos de precios**"
   ]
  },
  {
   "cell_type": "code",
   "execution_count": 30,
   "id": "f61bba27",
   "metadata": {},
   "outputs": [
    {
     "data": {
      "text/plain": [
       "np.int64(100)"
      ]
     },
     "execution_count": 30,
     "metadata": {},
     "output_type": "execute_result"
    }
   ],
   "source": [
    "(df['precio_unitario'] > 0).sum()"
   ]
  },
  {
   "cell_type": "markdown",
   "id": "81a21f43",
   "metadata": {},
   "source": [
    "# **2. Limpieza de datos**"
   ]
  },
  {
   "cell_type": "markdown",
   "id": "81eb9a3f",
   "metadata": {},
   "source": [
    "### **Eliminación de filas duplicadas**"
   ]
  },
  {
   "cell_type": "code",
   "execution_count": 31,
   "id": "af7c04c1",
   "metadata": {},
   "outputs": [],
   "source": [
    "df = df.drop_duplicates()"
   ]
  },
  {
   "cell_type": "markdown",
   "id": "43b5f0e2",
   "metadata": {},
   "source": [
    "### **Quitar espacios y capitalizar**"
   ]
  },
  {
   "cell_type": "code",
   "execution_count": 32,
   "id": "2eb24bb9",
   "metadata": {},
   "outputs": [],
   "source": [
    "df['categoria'] = df['categoria'].str.strip().str.title()"
   ]
  },
  {
   "cell_type": "markdown",
   "id": "879fd592",
   "metadata": {},
   "source": [
    "### **Eliminar filas con valores nulos en 'id_producto' o 'nombre_producto'**"
   ]
  },
  {
   "cell_type": "code",
   "execution_count": 33,
   "id": "7edd91e9",
   "metadata": {},
   "outputs": [],
   "source": [
    "df = df.dropna(subset=['id_producto', 'nombre_producto'])"
   ]
  },
  {
   "cell_type": "markdown",
   "id": "aa81bb59",
   "metadata": {},
   "source": [
    "# **Estandarización**"
   ]
  },
  {
   "cell_type": "markdown",
   "id": "de6df801",
   "metadata": {},
   "source": [
    "### **Asegurar que todos los datos sigan el mismo formato:**\n",
    "- Nombres de productos con mayúscula inicial\n",
    "- Categorías estandarizadas  \n",
    "- Precios con formato numérico correcto"
   ]
  },
  {
   "cell_type": "code",
   "execution_count": 34,
   "id": "dfb6caa2",
   "metadata": {},
   "outputs": [],
   "source": [
    "df['nombre_producto'] = df['nombre_producto'].str.title()\n",
    "df['precio_unitario'] = pd.to_numeric(df['precio_unitario'], errors='coerce')\n",
    "df['categoria'] = df['categoria'].replace({\n",
    "    'Electronica': 'Electrónica',\n",
    "    'Electrodomesticos': 'Electrodomésticos',\n",
    "    'Hogar Y Jardin': 'Hogar y Jardín'\n",
    "})"
   ]
  },
  {
   "cell_type": "markdown",
   "id": "94b38cc7",
   "metadata": {},
   "source": [
    "# **3. Normalización de datos**"
   ]
  },
  {
   "cell_type": "markdown",
   "id": "f1ab313e",
   "metadata": {},
   "source": [
    "### **Normalización de IDs de producto**"
   ]
  },
  {
   "cell_type": "code",
   "execution_count": 35,
   "id": "9ec8800b",
   "metadata": {},
   "outputs": [],
   "source": [
    "df['id_producto'] = pd.to_numeric(df['id_producto'], errors='coerce')"
   ]
  },
  {
   "cell_type": "markdown",
   "id": "385f4632",
   "metadata": {},
   "source": [
    "### **Normalización de nombres de producto**"
   ]
  },
  {
   "cell_type": "code",
   "execution_count": 36,
   "id": "9dec765a",
   "metadata": {},
   "outputs": [],
   "source": [
    "df['nombre_producto'] = df['nombre_producto'].str.strip().str.replace(r'\\s+', ' ', regex=True)"
   ]
  },
  {
   "cell_type": "markdown",
   "id": "b9044623",
   "metadata": {},
   "source": [
    "### **Normalización de precios**"
   ]
  },
  {
   "cell_type": "code",
   "execution_count": 37,
   "id": "911d3268",
   "metadata": {},
   "outputs": [],
   "source": [
    "df['precio_unitario'] = df['precio_unitario'].abs()\n",
    "df.drop_duplicates(subset=['nombre_producto'], inplace=True)"
   ]
  },
  {
   "cell_type": "markdown",
   "id": "457a4f5a",
   "metadata": {},
   "source": [
    "### **Normalización de categorías (adicional)**"
   ]
  },
  {
   "cell_type": "code",
   "execution_count": 38,
   "id": "97d257be",
   "metadata": {},
   "outputs": [],
   "source": [
    "variaciones_adicionales = {\n",
    "    'Tecnologia': 'Tecnología',\n",
    "    'Ropa Y Accesorios': 'Ropa y Accesorios',\n",
    "    'Deportes Y Aire Libre': 'Deportes y Aire Libre'\n",
    "}\n",
    "df['categoria'] = df['categoria'].replace(variaciones_adicionales)"
   ]
  },
  {
   "cell_type": "markdown",
   "id": "2d0398c8",
   "metadata": {},
   "source": [
    "### **One-hot encoding para variables categóricas**"
   ]
  },
  {
   "cell_type": "code",
   "execution_count": 39,
   "id": "7b13c64d",
   "metadata": {},
   "outputs": [
    {
     "data": {
      "text/html": [
       "<div>\n",
       "<style scoped>\n",
       "    .dataframe tbody tr th:only-of-type {\n",
       "        vertical-align: middle;\n",
       "    }\n",
       "\n",
       "    .dataframe tbody tr th {\n",
       "        vertical-align: top;\n",
       "    }\n",
       "\n",
       "    .dataframe thead th {\n",
       "        text-align: right;\n",
       "    }\n",
       "</style>\n",
       "<table border=\"1\" class=\"dataframe\">\n",
       "  <thead>\n",
       "    <tr style=\"text-align: right;\">\n",
       "      <th></th>\n",
       "      <th>id_producto</th>\n",
       "      <th>nombre_producto</th>\n",
       "      <th>precio_unitario</th>\n",
       "      <th>cat_Alimentos</th>\n",
       "      <th>cat_Limpieza</th>\n",
       "    </tr>\n",
       "  </thead>\n",
       "  <tbody>\n",
       "    <tr>\n",
       "      <th>0</th>\n",
       "      <td>1</td>\n",
       "      <td>Coca Cola 1.5L</td>\n",
       "      <td>2347</td>\n",
       "      <td>True</td>\n",
       "      <td>False</td>\n",
       "    </tr>\n",
       "    <tr>\n",
       "      <th>1</th>\n",
       "      <td>2</td>\n",
       "      <td>Pepsi 1.5L</td>\n",
       "      <td>4973</td>\n",
       "      <td>False</td>\n",
       "      <td>True</td>\n",
       "    </tr>\n",
       "    <tr>\n",
       "      <th>2</th>\n",
       "      <td>3</td>\n",
       "      <td>Sprite 1.5L</td>\n",
       "      <td>4964</td>\n",
       "      <td>True</td>\n",
       "      <td>False</td>\n",
       "    </tr>\n",
       "    <tr>\n",
       "      <th>3</th>\n",
       "      <td>4</td>\n",
       "      <td>Fanta Naranja 1.5L</td>\n",
       "      <td>2033</td>\n",
       "      <td>False</td>\n",
       "      <td>True</td>\n",
       "    </tr>\n",
       "    <tr>\n",
       "      <th>4</th>\n",
       "      <td>5</td>\n",
       "      <td>Agua Mineral 500Ml</td>\n",
       "      <td>4777</td>\n",
       "      <td>True</td>\n",
       "      <td>False</td>\n",
       "    </tr>\n",
       "    <tr>\n",
       "      <th>...</th>\n",
       "      <td>...</td>\n",
       "      <td>...</td>\n",
       "      <td>...</td>\n",
       "      <td>...</td>\n",
       "      <td>...</td>\n",
       "    </tr>\n",
       "    <tr>\n",
       "      <th>95</th>\n",
       "      <td>96</td>\n",
       "      <td>Suavizante 1L</td>\n",
       "      <td>4920</td>\n",
       "      <td>False</td>\n",
       "      <td>True</td>\n",
       "    </tr>\n",
       "    <tr>\n",
       "      <th>96</th>\n",
       "      <td>97</td>\n",
       "      <td>Limpiavidrios 500Ml</td>\n",
       "      <td>872</td>\n",
       "      <td>True</td>\n",
       "      <td>False</td>\n",
       "    </tr>\n",
       "    <tr>\n",
       "      <th>97</th>\n",
       "      <td>98</td>\n",
       "      <td>Desengrasante 500Ml</td>\n",
       "      <td>2843</td>\n",
       "      <td>False</td>\n",
       "      <td>True</td>\n",
       "    </tr>\n",
       "    <tr>\n",
       "      <th>98</th>\n",
       "      <td>99</td>\n",
       "      <td>Esponjas X3</td>\n",
       "      <td>2430</td>\n",
       "      <td>True</td>\n",
       "      <td>False</td>\n",
       "    </tr>\n",
       "    <tr>\n",
       "      <th>99</th>\n",
       "      <td>100</td>\n",
       "      <td>Trapo De Piso</td>\n",
       "      <td>4854</td>\n",
       "      <td>False</td>\n",
       "      <td>True</td>\n",
       "    </tr>\n",
       "  </tbody>\n",
       "</table>\n",
       "<p>100 rows × 5 columns</p>\n",
       "</div>"
      ],
      "text/plain": [
       "    id_producto      nombre_producto  precio_unitario  cat_Alimentos  \\\n",
       "0             1       Coca Cola 1.5L             2347           True   \n",
       "1             2           Pepsi 1.5L             4973          False   \n",
       "2             3          Sprite 1.5L             4964           True   \n",
       "3             4   Fanta Naranja 1.5L             2033          False   \n",
       "4             5   Agua Mineral 500Ml             4777           True   \n",
       "..          ...                  ...              ...            ...   \n",
       "95           96        Suavizante 1L             4920          False   \n",
       "96           97  Limpiavidrios 500Ml              872           True   \n",
       "97           98  Desengrasante 500Ml             2843          False   \n",
       "98           99          Esponjas X3             2430           True   \n",
       "99          100        Trapo De Piso             4854          False   \n",
       "\n",
       "    cat_Limpieza  \n",
       "0          False  \n",
       "1           True  \n",
       "2          False  \n",
       "3           True  \n",
       "4          False  \n",
       "..           ...  \n",
       "95          True  \n",
       "96         False  \n",
       "97          True  \n",
       "98         False  \n",
       "99          True  \n",
       "\n",
       "[100 rows x 5 columns]"
      ]
     },
     "execution_count": 39,
     "metadata": {},
     "output_type": "execute_result"
    }
   ],
   "source": [
    "df = pd.get_dummies(df, columns=['categoria'], prefix='cat')\n",
    "df"
   ]
  },
  {
   "cell_type": "code",
   "execution_count": 43,
   "id": "0364f59e",
   "metadata": {},
   "outputs": [
    {
     "data": {
      "text/html": [
       "<div>\n",
       "<style scoped>\n",
       "    .dataframe tbody tr th:only-of-type {\n",
       "        vertical-align: middle;\n",
       "    }\n",
       "\n",
       "    .dataframe tbody tr th {\n",
       "        vertical-align: top;\n",
       "    }\n",
       "\n",
       "    .dataframe thead th {\n",
       "        text-align: right;\n",
       "    }\n",
       "</style>\n",
       "<table border=\"1\" class=\"dataframe\">\n",
       "  <thead>\n",
       "    <tr style=\"text-align: right;\">\n",
       "      <th></th>\n",
       "      <th>id_producto</th>\n",
       "      <th>nombre_producto</th>\n",
       "      <th>precio_unitario</th>\n",
       "      <th>cat_Alimentos</th>\n",
       "      <th>cat_Limpieza</th>\n",
       "    </tr>\n",
       "  </thead>\n",
       "  <tbody>\n",
       "    <tr>\n",
       "      <th>0</th>\n",
       "      <td>1</td>\n",
       "      <td>Coca Cola 1.5L</td>\n",
       "      <td>2347</td>\n",
       "      <td>1</td>\n",
       "      <td>0</td>\n",
       "    </tr>\n",
       "    <tr>\n",
       "      <th>1</th>\n",
       "      <td>2</td>\n",
       "      <td>Pepsi 1.5L</td>\n",
       "      <td>4973</td>\n",
       "      <td>0</td>\n",
       "      <td>1</td>\n",
       "    </tr>\n",
       "    <tr>\n",
       "      <th>2</th>\n",
       "      <td>3</td>\n",
       "      <td>Sprite 1.5L</td>\n",
       "      <td>4964</td>\n",
       "      <td>1</td>\n",
       "      <td>0</td>\n",
       "    </tr>\n",
       "    <tr>\n",
       "      <th>3</th>\n",
       "      <td>4</td>\n",
       "      <td>Fanta Naranja 1.5L</td>\n",
       "      <td>2033</td>\n",
       "      <td>0</td>\n",
       "      <td>1</td>\n",
       "    </tr>\n",
       "    <tr>\n",
       "      <th>4</th>\n",
       "      <td>5</td>\n",
       "      <td>Agua Mineral 500Ml</td>\n",
       "      <td>4777</td>\n",
       "      <td>1</td>\n",
       "      <td>0</td>\n",
       "    </tr>\n",
       "    <tr>\n",
       "      <th>...</th>\n",
       "      <td>...</td>\n",
       "      <td>...</td>\n",
       "      <td>...</td>\n",
       "      <td>...</td>\n",
       "      <td>...</td>\n",
       "    </tr>\n",
       "    <tr>\n",
       "      <th>95</th>\n",
       "      <td>96</td>\n",
       "      <td>Suavizante 1L</td>\n",
       "      <td>4920</td>\n",
       "      <td>0</td>\n",
       "      <td>1</td>\n",
       "    </tr>\n",
       "    <tr>\n",
       "      <th>96</th>\n",
       "      <td>97</td>\n",
       "      <td>Limpiavidrios 500Ml</td>\n",
       "      <td>872</td>\n",
       "      <td>1</td>\n",
       "      <td>0</td>\n",
       "    </tr>\n",
       "    <tr>\n",
       "      <th>97</th>\n",
       "      <td>98</td>\n",
       "      <td>Desengrasante 500Ml</td>\n",
       "      <td>2843</td>\n",
       "      <td>0</td>\n",
       "      <td>1</td>\n",
       "    </tr>\n",
       "    <tr>\n",
       "      <th>98</th>\n",
       "      <td>99</td>\n",
       "      <td>Esponjas X3</td>\n",
       "      <td>2430</td>\n",
       "      <td>1</td>\n",
       "      <td>0</td>\n",
       "    </tr>\n",
       "    <tr>\n",
       "      <th>99</th>\n",
       "      <td>100</td>\n",
       "      <td>Trapo De Piso</td>\n",
       "      <td>4854</td>\n",
       "      <td>0</td>\n",
       "      <td>1</td>\n",
       "    </tr>\n",
       "  </tbody>\n",
       "</table>\n",
       "<p>100 rows × 5 columns</p>\n",
       "</div>"
      ],
      "text/plain": [
       "    id_producto      nombre_producto  precio_unitario  cat_Alimentos  \\\n",
       "0             1       Coca Cola 1.5L             2347              1   \n",
       "1             2           Pepsi 1.5L             4973              0   \n",
       "2             3          Sprite 1.5L             4964              1   \n",
       "3             4   Fanta Naranja 1.5L             2033              0   \n",
       "4             5   Agua Mineral 500Ml             4777              1   \n",
       "..          ...                  ...              ...            ...   \n",
       "95           96        Suavizante 1L             4920              0   \n",
       "96           97  Limpiavidrios 500Ml              872              1   \n",
       "97           98  Desengrasante 500Ml             2843              0   \n",
       "98           99          Esponjas X3             2430              1   \n",
       "99          100        Trapo De Piso             4854              0   \n",
       "\n",
       "    cat_Limpieza  \n",
       "0              0  \n",
       "1              1  \n",
       "2              0  \n",
       "3              1  \n",
       "4              0  \n",
       "..           ...  \n",
       "95             1  \n",
       "96             0  \n",
       "97             1  \n",
       "98             0  \n",
       "99             1  \n",
       "\n",
       "[100 rows x 5 columns]"
      ]
     },
     "execution_count": 43,
     "metadata": {},
     "output_type": "execute_result"
    }
   ],
   "source": [
    "# Convertir las columnas de dummies a tipo entero\n",
    "\n",
    "dummies_cols = ['cat_Alimentos', 'cat_Limpieza']\n",
    "df[dummies_cols] = df[dummies_cols].astype(int)\n",
    "\n",
    "df"
   ]
  },
  {
   "cell_type": "markdown",
   "id": "4cf879e2",
   "metadata": {},
   "source": [
    "# **4. Validación Post-Limpieza y Normalización**"
   ]
  },
  {
   "cell_type": "markdown",
   "id": "2787ff70",
   "metadata": {},
   "source": [
    "### **Verificar el resultado de la limpieza**"
   ]
  },
  {
   "cell_type": "code",
   "execution_count": 41,
   "id": "f1c56d8f",
   "metadata": {},
   "outputs": [
    {
     "name": "stdout",
     "output_type": "stream",
     "text": [
      "<class 'pandas.core.frame.DataFrame'>\n",
      "RangeIndex: 100 entries, 0 to 99\n",
      "Data columns (total 5 columns):\n",
      " #   Column           Non-Null Count  Dtype \n",
      "---  ------           --------------  ----- \n",
      " 0   id_producto      100 non-null    int64 \n",
      " 1   nombre_producto  100 non-null    object\n",
      " 2   precio_unitario  100 non-null    int64 \n",
      " 3   cat_Alimentos    100 non-null    int64 \n",
      " 4   cat_Limpieza     100 non-null    int64 \n",
      "dtypes: int64(4), object(1)\n",
      "memory usage: 4.0+ KB\n"
     ]
    },
    {
     "data": {
      "text/html": [
       "<div>\n",
       "<style scoped>\n",
       "    .dataframe tbody tr th:only-of-type {\n",
       "        vertical-align: middle;\n",
       "    }\n",
       "\n",
       "    .dataframe tbody tr th {\n",
       "        vertical-align: top;\n",
       "    }\n",
       "\n",
       "    .dataframe thead th {\n",
       "        text-align: right;\n",
       "    }\n",
       "</style>\n",
       "<table border=\"1\" class=\"dataframe\">\n",
       "  <thead>\n",
       "    <tr style=\"text-align: right;\">\n",
       "      <th></th>\n",
       "      <th>id_producto</th>\n",
       "      <th>nombre_producto</th>\n",
       "      <th>precio_unitario</th>\n",
       "      <th>cat_Alimentos</th>\n",
       "      <th>cat_Limpieza</th>\n",
       "    </tr>\n",
       "  </thead>\n",
       "  <tbody>\n",
       "    <tr>\n",
       "      <th>0</th>\n",
       "      <td>1</td>\n",
       "      <td>Coca Cola 1.5L</td>\n",
       "      <td>2347</td>\n",
       "      <td>1</td>\n",
       "      <td>0</td>\n",
       "    </tr>\n",
       "    <tr>\n",
       "      <th>1</th>\n",
       "      <td>2</td>\n",
       "      <td>Pepsi 1.5L</td>\n",
       "      <td>4973</td>\n",
       "      <td>0</td>\n",
       "      <td>1</td>\n",
       "    </tr>\n",
       "    <tr>\n",
       "      <th>2</th>\n",
       "      <td>3</td>\n",
       "      <td>Sprite 1.5L</td>\n",
       "      <td>4964</td>\n",
       "      <td>1</td>\n",
       "      <td>0</td>\n",
       "    </tr>\n",
       "    <tr>\n",
       "      <th>3</th>\n",
       "      <td>4</td>\n",
       "      <td>Fanta Naranja 1.5L</td>\n",
       "      <td>2033</td>\n",
       "      <td>0</td>\n",
       "      <td>1</td>\n",
       "    </tr>\n",
       "    <tr>\n",
       "      <th>4</th>\n",
       "      <td>5</td>\n",
       "      <td>Agua Mineral 500Ml</td>\n",
       "      <td>4777</td>\n",
       "      <td>1</td>\n",
       "      <td>0</td>\n",
       "    </tr>\n",
       "  </tbody>\n",
       "</table>\n",
       "</div>"
      ],
      "text/plain": [
       "   id_producto     nombre_producto  precio_unitario  cat_Alimentos  \\\n",
       "0            1      Coca Cola 1.5L             2347              1   \n",
       "1            2          Pepsi 1.5L             4973              0   \n",
       "2            3         Sprite 1.5L             4964              1   \n",
       "3            4  Fanta Naranja 1.5L             2033              0   \n",
       "4            5  Agua Mineral 500Ml             4777              1   \n",
       "\n",
       "   cat_Limpieza  \n",
       "0             0  \n",
       "1             1  \n",
       "2             0  \n",
       "3             1  \n",
       "4             0  "
      ]
     },
     "execution_count": 41,
     "metadata": {},
     "output_type": "execute_result"
    }
   ],
   "source": [
    "df.info()\n",
    "df.head()"
   ]
  },
  {
   "cell_type": "markdown",
   "id": "a02dca81",
   "metadata": {},
   "source": [
    "### **Comparación antes vs después**"
   ]
  },
  {
   "cell_type": "markdown",
   "id": "45615f69",
   "metadata": {},
   "source": [
    "# **5. Exportar datos limpios y normalizados**"
   ]
  },
  {
   "cell_type": "code",
   "execution_count": 42,
   "id": "66a0c57e",
   "metadata": {},
   "outputs": [],
   "source": [
    "df.to_csv('../Base_de_datos_limpia/Productos_limpio.csv', index=False)"
   ]
  }
 ],
 "metadata": {
  "kernelspec": {
   "display_name": "IBM-Python (3.12.3)",
   "language": "python",
   "name": "python3"
  },
  "language_info": {
   "codemirror_mode": {
    "name": "ipython",
    "version": 3
   },
   "file_extension": ".py",
   "mimetype": "text/x-python",
   "name": "python",
   "nbconvert_exporter": "python",
   "pygments_lexer": "ipython3",
   "version": "3.12.3"
  }
 },
 "nbformat": 4,
 "nbformat_minor": 5
}
