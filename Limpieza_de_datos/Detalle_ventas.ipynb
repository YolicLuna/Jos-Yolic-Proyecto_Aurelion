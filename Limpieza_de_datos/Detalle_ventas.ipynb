{
 "cells": [
  {
   "cell_type": "code",
   "execution_count": 1,
   "id": "abcf2790",
   "metadata": {},
   "outputs": [],
   "source": [
    "import pandas as pd\n",
    "import numpy as np"
   ]
  },
  {
   "cell_type": "code",
   "execution_count": 2,
   "id": "9c5829ca",
   "metadata": {},
   "outputs": [
    {
     "data": {
      "text/html": [
       "<div>\n",
       "<style scoped>\n",
       "    .dataframe tbody tr th:only-of-type {\n",
       "        vertical-align: middle;\n",
       "    }\n",
       "\n",
       "    .dataframe tbody tr th {\n",
       "        vertical-align: top;\n",
       "    }\n",
       "\n",
       "    .dataframe thead th {\n",
       "        text-align: right;\n",
       "    }\n",
       "</style>\n",
       "<table border=\"1\" class=\"dataframe\">\n",
       "  <thead>\n",
       "    <tr style=\"text-align: right;\">\n",
       "      <th></th>\n",
       "      <th>id_venta</th>\n",
       "      <th>id_producto</th>\n",
       "      <th>nombre_producto</th>\n",
       "      <th>cantidad</th>\n",
       "      <th>precio_unitario</th>\n",
       "      <th>importe</th>\n",
       "    </tr>\n",
       "  </thead>\n",
       "  <tbody>\n",
       "    <tr>\n",
       "      <th>0</th>\n",
       "      <td>1</td>\n",
       "      <td>90</td>\n",
       "      <td>Toallas Húmedas x50</td>\n",
       "      <td>1</td>\n",
       "      <td>2902</td>\n",
       "      <td>2902</td>\n",
       "    </tr>\n",
       "    <tr>\n",
       "      <th>1</th>\n",
       "      <td>2</td>\n",
       "      <td>82</td>\n",
       "      <td>Aceitunas Negras 200g</td>\n",
       "      <td>5</td>\n",
       "      <td>2394</td>\n",
       "      <td>11970</td>\n",
       "    </tr>\n",
       "    <tr>\n",
       "      <th>2</th>\n",
       "      <td>2</td>\n",
       "      <td>39</td>\n",
       "      <td>Helado Vainilla 1L</td>\n",
       "      <td>5</td>\n",
       "      <td>469</td>\n",
       "      <td>2345</td>\n",
       "    </tr>\n",
       "    <tr>\n",
       "      <th>3</th>\n",
       "      <td>2</td>\n",
       "      <td>70</td>\n",
       "      <td>Fernet 750ml</td>\n",
       "      <td>2</td>\n",
       "      <td>4061</td>\n",
       "      <td>8122</td>\n",
       "    </tr>\n",
       "    <tr>\n",
       "      <th>4</th>\n",
       "      <td>2</td>\n",
       "      <td>22</td>\n",
       "      <td>Medialunas de Manteca</td>\n",
       "      <td>1</td>\n",
       "      <td>2069</td>\n",
       "      <td>2069</td>\n",
       "    </tr>\n",
       "    <tr>\n",
       "      <th>...</th>\n",
       "      <td>...</td>\n",
       "      <td>...</td>\n",
       "      <td>...</td>\n",
       "      <td>...</td>\n",
       "      <td>...</td>\n",
       "      <td>...</td>\n",
       "    </tr>\n",
       "    <tr>\n",
       "      <th>338</th>\n",
       "      <td>118</td>\n",
       "      <td>70</td>\n",
       "      <td>Fernet 750ml</td>\n",
       "      <td>2</td>\n",
       "      <td>4061</td>\n",
       "      <td>8122</td>\n",
       "    </tr>\n",
       "    <tr>\n",
       "      <th>339</th>\n",
       "      <td>118</td>\n",
       "      <td>93</td>\n",
       "      <td>Cepillo de Dientes</td>\n",
       "      <td>3</td>\n",
       "      <td>2142</td>\n",
       "      <td>6426</td>\n",
       "    </tr>\n",
       "    <tr>\n",
       "      <th>340</th>\n",
       "      <td>118</td>\n",
       "      <td>50</td>\n",
       "      <td>Azúcar 1kg</td>\n",
       "      <td>2</td>\n",
       "      <td>727</td>\n",
       "      <td>1454</td>\n",
       "    </tr>\n",
       "    <tr>\n",
       "      <th>341</th>\n",
       "      <td>119</td>\n",
       "      <td>45</td>\n",
       "      <td>Fideos Spaghetti 500g</td>\n",
       "      <td>5</td>\n",
       "      <td>745</td>\n",
       "      <td>3725</td>\n",
       "    </tr>\n",
       "    <tr>\n",
       "      <th>342</th>\n",
       "      <td>120</td>\n",
       "      <td>20</td>\n",
       "      <td>Pan Lactal Blanco</td>\n",
       "      <td>5</td>\n",
       "      <td>1571</td>\n",
       "      <td>7855</td>\n",
       "    </tr>\n",
       "  </tbody>\n",
       "</table>\n",
       "<p>343 rows × 6 columns</p>\n",
       "</div>"
      ],
      "text/plain": [
       "     id_venta  id_producto        nombre_producto  cantidad  precio_unitario  \\\n",
       "0           1           90    Toallas Húmedas x50         1             2902   \n",
       "1           2           82  Aceitunas Negras 200g         5             2394   \n",
       "2           2           39     Helado Vainilla 1L         5              469   \n",
       "3           2           70           Fernet 750ml         2             4061   \n",
       "4           2           22  Medialunas de Manteca         1             2069   \n",
       "..        ...          ...                    ...       ...              ...   \n",
       "338       118           70           Fernet 750ml         2             4061   \n",
       "339       118           93     Cepillo de Dientes         3             2142   \n",
       "340       118           50             Azúcar 1kg         2              727   \n",
       "341       119           45  Fideos Spaghetti 500g         5              745   \n",
       "342       120           20      Pan Lactal Blanco         5             1571   \n",
       "\n",
       "     importe  \n",
       "0       2902  \n",
       "1      11970  \n",
       "2       2345  \n",
       "3       8122  \n",
       "4       2069  \n",
       "..       ...  \n",
       "338     8122  \n",
       "339     6426  \n",
       "340     1454  \n",
       "341     3725  \n",
       "342     7855  \n",
       "\n",
       "[343 rows x 6 columns]"
      ]
     },
     "execution_count": 2,
     "metadata": {},
     "output_type": "execute_result"
    }
   ],
   "source": [
    "df = pd.read_excel('../Base_de_datos/Detalle_ventas.xlsx')\n",
    "df"
   ]
  },
  {
   "cell_type": "markdown",
   "id": "fb79f4f3",
   "metadata": {},
   "source": [
    "# **1. Analizar problemas con el dataset**"
   ]
  },
  {
   "cell_type": "markdown",
   "id": "97a55aeb",
   "metadata": {},
   "source": [
    "### **Tipos de datos y valores nulos**"
   ]
  },
  {
   "cell_type": "code",
   "execution_count": 3,
   "id": "11fcc62e",
   "metadata": {},
   "outputs": [
    {
     "name": "stdout",
     "output_type": "stream",
     "text": [
      "<class 'pandas.core.frame.DataFrame'>\n",
      "RangeIndex: 343 entries, 0 to 342\n",
      "Data columns (total 6 columns):\n",
      " #   Column           Non-Null Count  Dtype \n",
      "---  ------           --------------  ----- \n",
      " 0   id_venta         343 non-null    int64 \n",
      " 1   id_producto      343 non-null    int64 \n",
      " 2   nombre_producto  343 non-null    object\n",
      " 3   cantidad         343 non-null    int64 \n",
      " 4   precio_unitario  343 non-null    int64 \n",
      " 5   importe          343 non-null    int64 \n",
      "dtypes: int64(5), object(1)\n",
      "memory usage: 16.2+ KB\n"
     ]
    }
   ],
   "source": [
    "df.info()"
   ]
  },
  {
   "cell_type": "markdown",
   "id": "d2dfb112",
   "metadata": {},
   "source": [
    "### **Estadísticas generales**"
   ]
  },
  {
   "cell_type": "code",
   "execution_count": 4,
   "id": "ea00a37a",
   "metadata": {},
   "outputs": [
    {
     "data": {
      "text/html": [
       "<div>\n",
       "<style scoped>\n",
       "    .dataframe tbody tr th:only-of-type {\n",
       "        vertical-align: middle;\n",
       "    }\n",
       "\n",
       "    .dataframe tbody tr th {\n",
       "        vertical-align: top;\n",
       "    }\n",
       "\n",
       "    .dataframe thead th {\n",
       "        text-align: right;\n",
       "    }\n",
       "</style>\n",
       "<table border=\"1\" class=\"dataframe\">\n",
       "  <thead>\n",
       "    <tr style=\"text-align: right;\">\n",
       "      <th></th>\n",
       "      <th>id_venta</th>\n",
       "      <th>id_producto</th>\n",
       "      <th>nombre_producto</th>\n",
       "      <th>cantidad</th>\n",
       "      <th>precio_unitario</th>\n",
       "      <th>importe</th>\n",
       "    </tr>\n",
       "  </thead>\n",
       "  <tbody>\n",
       "    <tr>\n",
       "      <th>count</th>\n",
       "      <td>343.000000</td>\n",
       "      <td>343.000000</td>\n",
       "      <td>343</td>\n",
       "      <td>343.000000</td>\n",
       "      <td>343.000000</td>\n",
       "      <td>343.000000</td>\n",
       "    </tr>\n",
       "    <tr>\n",
       "      <th>unique</th>\n",
       "      <td>NaN</td>\n",
       "      <td>NaN</td>\n",
       "      <td>95</td>\n",
       "      <td>NaN</td>\n",
       "      <td>NaN</td>\n",
       "      <td>NaN</td>\n",
       "    </tr>\n",
       "    <tr>\n",
       "      <th>top</th>\n",
       "      <td>NaN</td>\n",
       "      <td>NaN</td>\n",
       "      <td>Queso Rallado 150g</td>\n",
       "      <td>NaN</td>\n",
       "      <td>NaN</td>\n",
       "      <td>NaN</td>\n",
       "    </tr>\n",
       "    <tr>\n",
       "      <th>freq</th>\n",
       "      <td>NaN</td>\n",
       "      <td>NaN</td>\n",
       "      <td>9</td>\n",
       "      <td>NaN</td>\n",
       "      <td>NaN</td>\n",
       "      <td>NaN</td>\n",
       "    </tr>\n",
       "    <tr>\n",
       "      <th>mean</th>\n",
       "      <td>61.492711</td>\n",
       "      <td>49.139942</td>\n",
       "      <td>NaN</td>\n",
       "      <td>2.962099</td>\n",
       "      <td>2654.495627</td>\n",
       "      <td>7730.078717</td>\n",
       "    </tr>\n",
       "    <tr>\n",
       "      <th>std</th>\n",
       "      <td>34.835525</td>\n",
       "      <td>29.135461</td>\n",
       "      <td>NaN</td>\n",
       "      <td>1.366375</td>\n",
       "      <td>1308.694720</td>\n",
       "      <td>5265.543077</td>\n",
       "    </tr>\n",
       "    <tr>\n",
       "      <th>min</th>\n",
       "      <td>1.000000</td>\n",
       "      <td>1.000000</td>\n",
       "      <td>NaN</td>\n",
       "      <td>1.000000</td>\n",
       "      <td>272.000000</td>\n",
       "      <td>272.000000</td>\n",
       "    </tr>\n",
       "    <tr>\n",
       "      <th>25%</th>\n",
       "      <td>31.000000</td>\n",
       "      <td>23.000000</td>\n",
       "      <td>NaN</td>\n",
       "      <td>2.000000</td>\n",
       "      <td>1618.500000</td>\n",
       "      <td>3489.000000</td>\n",
       "    </tr>\n",
       "    <tr>\n",
       "      <th>50%</th>\n",
       "      <td>61.000000</td>\n",
       "      <td>47.000000</td>\n",
       "      <td>NaN</td>\n",
       "      <td>3.000000</td>\n",
       "      <td>2512.000000</td>\n",
       "      <td>6702.000000</td>\n",
       "    </tr>\n",
       "    <tr>\n",
       "      <th>75%</th>\n",
       "      <td>93.000000</td>\n",
       "      <td>76.000000</td>\n",
       "      <td>NaN</td>\n",
       "      <td>4.000000</td>\n",
       "      <td>3876.000000</td>\n",
       "      <td>10231.500000</td>\n",
       "    </tr>\n",
       "    <tr>\n",
       "      <th>max</th>\n",
       "      <td>120.000000</td>\n",
       "      <td>100.000000</td>\n",
       "      <td>NaN</td>\n",
       "      <td>5.000000</td>\n",
       "      <td>4982.000000</td>\n",
       "      <td>24865.000000</td>\n",
       "    </tr>\n",
       "  </tbody>\n",
       "</table>\n",
       "</div>"
      ],
      "text/plain": [
       "          id_venta  id_producto     nombre_producto    cantidad  \\\n",
       "count   343.000000   343.000000                 343  343.000000   \n",
       "unique         NaN          NaN                  95         NaN   \n",
       "top            NaN          NaN  Queso Rallado 150g         NaN   \n",
       "freq           NaN          NaN                   9         NaN   \n",
       "mean     61.492711    49.139942                 NaN    2.962099   \n",
       "std      34.835525    29.135461                 NaN    1.366375   \n",
       "min       1.000000     1.000000                 NaN    1.000000   \n",
       "25%      31.000000    23.000000                 NaN    2.000000   \n",
       "50%      61.000000    47.000000                 NaN    3.000000   \n",
       "75%      93.000000    76.000000                 NaN    4.000000   \n",
       "max     120.000000   100.000000                 NaN    5.000000   \n",
       "\n",
       "        precio_unitario       importe  \n",
       "count        343.000000    343.000000  \n",
       "unique              NaN           NaN  \n",
       "top                 NaN           NaN  \n",
       "freq                NaN           NaN  \n",
       "mean        2654.495627   7730.078717  \n",
       "std         1308.694720   5265.543077  \n",
       "min          272.000000    272.000000  \n",
       "25%         1618.500000   3489.000000  \n",
       "50%         2512.000000   6702.000000  \n",
       "75%         3876.000000  10231.500000  \n",
       "max         4982.000000  24865.000000  "
      ]
     },
     "execution_count": 4,
     "metadata": {},
     "output_type": "execute_result"
    }
   ],
   "source": [
    "df.describe(include='all')"
   ]
  },
  {
   "cell_type": "markdown",
   "id": "7f294db2",
   "metadata": {},
   "source": [
    "### **Conteo de valores faltantes**"
   ]
  },
  {
   "cell_type": "code",
   "execution_count": 5,
   "id": "775c9a64",
   "metadata": {},
   "outputs": [
    {
     "data": {
      "text/plain": [
       "id_venta           0\n",
       "id_producto        0\n",
       "nombre_producto    0\n",
       "cantidad           0\n",
       "precio_unitario    0\n",
       "importe            0\n",
       "dtype: int64"
      ]
     },
     "execution_count": 5,
     "metadata": {},
     "output_type": "execute_result"
    }
   ],
   "source": [
    "df.isnull().sum()"
   ]
  },
  {
   "cell_type": "markdown",
   "id": "d8591083",
   "metadata": {},
   "source": [
    "### **Análisis de duplicados (considerando relaciones)**"
   ]
  },
  {
   "cell_type": "code",
   "execution_count": 6,
   "id": "54937d60",
   "metadata": {},
   "outputs": [
    {
     "name": "stdout",
     "output_type": "stream",
     "text": [
      "Filas completamente duplicadas: 0\n",
      "Productos duplicados en la misma venta: 4\n",
      "Total de registros: 343\n"
     ]
    }
   ],
   "source": [
    "# Duplicados completos (todas las columnas iguales)\n",
    "duplicados_completos = df.duplicated().sum()\n",
    "print(f\"Filas completamente duplicadas: {duplicados_completos}\")\n",
    "\n",
    "# Duplicados por combinación de producto en misma venta\n",
    "duplicados_por_venta = df.duplicated(subset=['id_venta', 'id_producto']).sum()\n",
    "print(f\"Productos duplicados en la misma venta: {duplicados_por_venta}\")\n",
    "\n",
    "# Total de registros\n",
    "print(f\"Total de registros: {len(df)}\")"
   ]
  },
  {
   "cell_type": "markdown",
   "id": "be119e0a",
   "metadata": {},
   "source": [
    "### **Verificación de integridad referencial**"
   ]
  },
  {
   "cell_type": "code",
   "execution_count": 7,
   "id": "2c9f0085",
   "metadata": {},
   "outputs": [
    {
     "name": "stdout",
     "output_type": "stream",
     "text": [
      "Registros con importe incoherente: 0\n",
      "Cantidades negativas o cero: 0\n",
      "Precios negativos o cero: 0\n"
     ]
    }
   ],
   "source": [
    "# Verificar coherencia del importe\n",
    "df['importe_calculado'] = df['cantidad'] * df['precio_unitario']\n",
    "incoherencias = (df['importe'] != df['importe_calculado']).sum()\n",
    "print(f\"Registros con importe incoherente: {incoherencias}\")\n",
    "\n",
    "# Verificar valores negativos\n",
    "cantidades_negativas = (df['cantidad'] <= 0).sum()\n",
    "precios_negativos = (df['precio_unitario'] <= 0).sum()\n",
    "print(f\"Cantidades negativas o cero: {cantidades_negativas}\")\n",
    "print(f\"Precios negativos o cero: {precios_negativos}\")"
   ]
  },
  {
   "cell_type": "markdown",
   "id": "707a2cb2",
   "metadata": {},
   "source": [
    "# **2. Limpieza de datos**"
   ]
  },
  {
   "cell_type": "markdown",
   "id": "48260aa0",
   "metadata": {},
   "source": [
    "### **Eliminar columna redundante**"
   ]
  },
  {
   "cell_type": "code",
   "execution_count": 8,
   "id": "6287d723",
   "metadata": {},
   "outputs": [],
   "source": [
    "df = df.drop(['nombre_producto'], axis=1)"
   ]
  },
  {
   "cell_type": "markdown",
   "id": "52237220",
   "metadata": {},
   "source": [
    "### **Eliminación CUIDADOSA de duplicados**"
   ]
  },
  {
   "cell_type": "code",
   "execution_count": 9,
   "id": "a53fd3ef",
   "metadata": {},
   "outputs": [],
   "source": [
    "# Solo eliminar duplicados COMPLETOS (todas las columnas iguales)\n",
    "# NO eliminar por producto similar, ya que puede estar en ventas diferentes\n",
    "df = df.drop_duplicates()"
   ]
  },
  {
   "cell_type": "markdown",
   "id": "6cdc3f83",
   "metadata": {},
   "source": [
    "### **Eliminar filas con valores nulos críticos**"
   ]
  },
  {
   "cell_type": "code",
   "execution_count": 10,
   "id": "cc8011b3",
   "metadata": {},
   "outputs": [],
   "source": [
    "df = df.dropna(subset=['id_venta', 'id_producto', 'cantidad', 'precio_unitario'])"
   ]
  },
  {
   "cell_type": "markdown",
   "id": "92cad77a",
   "metadata": {},
   "source": [
    "# **Estandarización**\n",
    "\n",
    "### **Asegurar que todos los datos sigan el mismo formato:**\n",
    "- IDs con formato numérico correcto\n",
    "- Cantidades y precios con formato numérico\n",
    "- Recalcular importe para consistencia"
   ]
  },
  {
   "cell_type": "code",
   "execution_count": 11,
   "id": "7b9dddd3",
   "metadata": {},
   "outputs": [],
   "source": [
    "df['id_venta'] = pd.to_numeric(df['id_venta'], errors='coerce')\n",
    "df['id_producto'] = pd.to_numeric(df['id_producto'], errors='coerce')\n",
    "df['cantidad'] = pd.to_numeric(df['cantidad'], errors='coerce')\n",
    "df['precio_unitario'] = pd.to_numeric(df['precio_unitario'], errors='coerce')\n",
    "# Recalcular importe para consistencia\n",
    "df['importe'] = df['cantidad'] * df['precio_unitario']"
   ]
  },
  {
   "cell_type": "markdown",
   "id": "bb622aea",
   "metadata": {},
   "source": [
    "# **3. Normalización de datos**\n",
    "\n",
    "### **Normalización de IDs y valores numéricos**"
   ]
  },
  {
   "cell_type": "code",
   "execution_count": 12,
   "id": "235c41a1",
   "metadata": {},
   "outputs": [],
   "source": [
    "df['cantidad'] = df['cantidad'].abs()\n",
    "df['precio_unitario'] = df['precio_unitario'].abs()\n",
    "df['importe'] = df['importe'].abs()\n",
    "# Eliminar columna auxiliar creada en análisis\n",
    "df = df.drop(['importe_calculado'], axis=1, errors='ignore')"
   ]
  },
  {
   "cell_type": "markdown",
   "id": "256d2359",
   "metadata": {},
   "source": [
    "# **4. Validación Post-Limpieza y Normalización**\n",
    "\n",
    "### **Verificar el resultado de la limpieza**"
   ]
  },
  {
   "cell_type": "code",
   "execution_count": 13,
   "id": "ebbde7ba",
   "metadata": {},
   "outputs": [
    {
     "name": "stdout",
     "output_type": "stream",
     "text": [
      "<class 'pandas.core.frame.DataFrame'>\n",
      "RangeIndex: 343 entries, 0 to 342\n",
      "Data columns (total 5 columns):\n",
      " #   Column           Non-Null Count  Dtype\n",
      "---  ------           --------------  -----\n",
      " 0   id_venta         343 non-null    int64\n",
      " 1   id_producto      343 non-null    int64\n",
      " 2   cantidad         343 non-null    int64\n",
      " 3   precio_unitario  343 non-null    int64\n",
      " 4   importe          343 non-null    int64\n",
      "dtypes: int64(5)\n",
      "memory usage: 13.5 KB\n"
     ]
    },
    {
     "data": {
      "text/html": [
       "<div>\n",
       "<style scoped>\n",
       "    .dataframe tbody tr th:only-of-type {\n",
       "        vertical-align: middle;\n",
       "    }\n",
       "\n",
       "    .dataframe tbody tr th {\n",
       "        vertical-align: top;\n",
       "    }\n",
       "\n",
       "    .dataframe thead th {\n",
       "        text-align: right;\n",
       "    }\n",
       "</style>\n",
       "<table border=\"1\" class=\"dataframe\">\n",
       "  <thead>\n",
       "    <tr style=\"text-align: right;\">\n",
       "      <th></th>\n",
       "      <th>id_venta</th>\n",
       "      <th>id_producto</th>\n",
       "      <th>cantidad</th>\n",
       "      <th>precio_unitario</th>\n",
       "      <th>importe</th>\n",
       "    </tr>\n",
       "  </thead>\n",
       "  <tbody>\n",
       "    <tr>\n",
       "      <th>0</th>\n",
       "      <td>1</td>\n",
       "      <td>90</td>\n",
       "      <td>1</td>\n",
       "      <td>2902</td>\n",
       "      <td>2902</td>\n",
       "    </tr>\n",
       "    <tr>\n",
       "      <th>1</th>\n",
       "      <td>2</td>\n",
       "      <td>82</td>\n",
       "      <td>5</td>\n",
       "      <td>2394</td>\n",
       "      <td>11970</td>\n",
       "    </tr>\n",
       "    <tr>\n",
       "      <th>2</th>\n",
       "      <td>2</td>\n",
       "      <td>39</td>\n",
       "      <td>5</td>\n",
       "      <td>469</td>\n",
       "      <td>2345</td>\n",
       "    </tr>\n",
       "    <tr>\n",
       "      <th>3</th>\n",
       "      <td>2</td>\n",
       "      <td>70</td>\n",
       "      <td>2</td>\n",
       "      <td>4061</td>\n",
       "      <td>8122</td>\n",
       "    </tr>\n",
       "    <tr>\n",
       "      <th>4</th>\n",
       "      <td>2</td>\n",
       "      <td>22</td>\n",
       "      <td>1</td>\n",
       "      <td>2069</td>\n",
       "      <td>2069</td>\n",
       "    </tr>\n",
       "  </tbody>\n",
       "</table>\n",
       "</div>"
      ],
      "text/plain": [
       "   id_venta  id_producto  cantidad  precio_unitario  importe\n",
       "0         1           90         1             2902     2902\n",
       "1         2           82         5             2394    11970\n",
       "2         2           39         5              469     2345\n",
       "3         2           70         2             4061     8122\n",
       "4         2           22         1             2069     2069"
      ]
     },
     "execution_count": 13,
     "metadata": {},
     "output_type": "execute_result"
    }
   ],
   "source": [
    "df.info()\n",
    "df.head()"
   ]
  },
  {
   "cell_type": "markdown",
   "id": "a41c5154",
   "metadata": {},
   "source": [
    "# **5. Exportar datos limpios y normalizados**"
   ]
  },
  {
   "cell_type": "code",
   "execution_count": 17,
   "id": "e12f1bf1",
   "metadata": {},
   "outputs": [],
   "source": [
    "df.to_csv('../Base_de_datos_limpia/Detalle_ventas_limpio.csv', index=False)"
   ]
  }
 ],
 "metadata": {
  "kernelspec": {
   "display_name": "IBM-Python (3.12.3)",
   "language": "python",
   "name": "python3"
  },
  "language_info": {
   "codemirror_mode": {
    "name": "ipython",
    "version": 3
   },
   "file_extension": ".py",
   "mimetype": "text/x-python",
   "name": "python",
   "nbconvert_exporter": "python",
   "pygments_lexer": "ipython3",
   "version": "3.12.3"
  }
 },
 "nbformat": 4,
 "nbformat_minor": 5
}
