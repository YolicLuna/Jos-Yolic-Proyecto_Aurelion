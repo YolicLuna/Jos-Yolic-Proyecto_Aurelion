{
 "cells": [
  {
   "cell_type": "code",
   "execution_count": 1,
   "id": "1cfe76b7",
   "metadata": {},
   "outputs": [],
   "source": [
    "import pandas as pd\n",
    "import numpy as np"
   ]
  },
  {
   "cell_type": "code",
   "execution_count": 2,
   "id": "a446ec61",
   "metadata": {},
   "outputs": [
    {
     "data": {
      "text/html": [
       "<div>\n",
       "<style scoped>\n",
       "    .dataframe tbody tr th:only-of-type {\n",
       "        vertical-align: middle;\n",
       "    }\n",
       "\n",
       "    .dataframe tbody tr th {\n",
       "        vertical-align: top;\n",
       "    }\n",
       "\n",
       "    .dataframe thead th {\n",
       "        text-align: right;\n",
       "    }\n",
       "</style>\n",
       "<table border=\"1\" class=\"dataframe\">\n",
       "  <thead>\n",
       "    <tr style=\"text-align: right;\">\n",
       "      <th></th>\n",
       "      <th>id_cliente</th>\n",
       "      <th>nombre_cliente</th>\n",
       "      <th>email</th>\n",
       "      <th>ciudad</th>\n",
       "      <th>fecha_alta</th>\n",
       "    </tr>\n",
       "  </thead>\n",
       "  <tbody>\n",
       "    <tr>\n",
       "      <th>0</th>\n",
       "      <td>1</td>\n",
       "      <td>Mariana Lopez</td>\n",
       "      <td>mariana.lopez@mail.com</td>\n",
       "      <td>Carlos Paz</td>\n",
       "      <td>2023-01-01</td>\n",
       "    </tr>\n",
       "    <tr>\n",
       "      <th>1</th>\n",
       "      <td>2</td>\n",
       "      <td>Nicolas Rojas</td>\n",
       "      <td>nicolas.rojas@mail.com</td>\n",
       "      <td>Carlos Paz</td>\n",
       "      <td>2023-01-02</td>\n",
       "    </tr>\n",
       "    <tr>\n",
       "      <th>2</th>\n",
       "      <td>3</td>\n",
       "      <td>Hernan Martinez</td>\n",
       "      <td>hernan.martinez@mail.com</td>\n",
       "      <td>Rio Cuarto</td>\n",
       "      <td>2023-01-03</td>\n",
       "    </tr>\n",
       "    <tr>\n",
       "      <th>3</th>\n",
       "      <td>4</td>\n",
       "      <td>Uma Martinez</td>\n",
       "      <td>uma.martinez@mail.com</td>\n",
       "      <td>Carlos Paz</td>\n",
       "      <td>2023-01-04</td>\n",
       "    </tr>\n",
       "    <tr>\n",
       "      <th>4</th>\n",
       "      <td>5</td>\n",
       "      <td>Agustina Flores</td>\n",
       "      <td>agustina.flores@mail.com</td>\n",
       "      <td>Cordoba</td>\n",
       "      <td>2023-01-05</td>\n",
       "    </tr>\n",
       "    <tr>\n",
       "      <th>...</th>\n",
       "      <td>...</td>\n",
       "      <td>...</td>\n",
       "      <td>...</td>\n",
       "      <td>...</td>\n",
       "      <td>...</td>\n",
       "    </tr>\n",
       "    <tr>\n",
       "      <th>95</th>\n",
       "      <td>96</td>\n",
       "      <td>Rocio Gonzalez</td>\n",
       "      <td>rocio.gonzalez@mail.com</td>\n",
       "      <td>Cordoba</td>\n",
       "      <td>2023-04-06</td>\n",
       "    </tr>\n",
       "    <tr>\n",
       "      <th>96</th>\n",
       "      <td>97</td>\n",
       "      <td>Uma Alvarez</td>\n",
       "      <td>uma.alvarez@mail.com</td>\n",
       "      <td>Cordoba</td>\n",
       "      <td>2023-04-07</td>\n",
       "    </tr>\n",
       "    <tr>\n",
       "      <th>97</th>\n",
       "      <td>98</td>\n",
       "      <td>Camila Castro</td>\n",
       "      <td>camila.castro@mail.com</td>\n",
       "      <td>Cordoba</td>\n",
       "      <td>2023-04-08</td>\n",
       "    </tr>\n",
       "    <tr>\n",
       "      <th>98</th>\n",
       "      <td>99</td>\n",
       "      <td>Bruno Molina</td>\n",
       "      <td>bruno.molina@mail.com</td>\n",
       "      <td>Villa Maria</td>\n",
       "      <td>2023-04-09</td>\n",
       "    </tr>\n",
       "    <tr>\n",
       "      <th>99</th>\n",
       "      <td>100</td>\n",
       "      <td>Agustina Lopez</td>\n",
       "      <td>agustina.lopez@mail.com</td>\n",
       "      <td>Cordoba</td>\n",
       "      <td>2023-04-10</td>\n",
       "    </tr>\n",
       "  </tbody>\n",
       "</table>\n",
       "<p>100 rows × 5 columns</p>\n",
       "</div>"
      ],
      "text/plain": [
       "    id_cliente   nombre_cliente                     email       ciudad  \\\n",
       "0            1    Mariana Lopez    mariana.lopez@mail.com   Carlos Paz   \n",
       "1            2    Nicolas Rojas    nicolas.rojas@mail.com   Carlos Paz   \n",
       "2            3  Hernan Martinez  hernan.martinez@mail.com   Rio Cuarto   \n",
       "3            4     Uma Martinez     uma.martinez@mail.com   Carlos Paz   \n",
       "4            5  Agustina Flores  agustina.flores@mail.com      Cordoba   \n",
       "..         ...              ...                       ...          ...   \n",
       "95          96   Rocio Gonzalez   rocio.gonzalez@mail.com      Cordoba   \n",
       "96          97      Uma Alvarez      uma.alvarez@mail.com      Cordoba   \n",
       "97          98    Camila Castro    camila.castro@mail.com      Cordoba   \n",
       "98          99     Bruno Molina     bruno.molina@mail.com  Villa Maria   \n",
       "99         100   Agustina Lopez   agustina.lopez@mail.com      Cordoba   \n",
       "\n",
       "   fecha_alta  \n",
       "0  2023-01-01  \n",
       "1  2023-01-02  \n",
       "2  2023-01-03  \n",
       "3  2023-01-04  \n",
       "4  2023-01-05  \n",
       "..        ...  \n",
       "95 2023-04-06  \n",
       "96 2023-04-07  \n",
       "97 2023-04-08  \n",
       "98 2023-04-09  \n",
       "99 2023-04-10  \n",
       "\n",
       "[100 rows x 5 columns]"
      ]
     },
     "execution_count": 2,
     "metadata": {},
     "output_type": "execute_result"
    }
   ],
   "source": [
    "df = pd.read_excel('../Base_de_datos/Clientes.xlsx')\n",
    "df"
   ]
  },
  {
   "cell_type": "markdown",
   "id": "9d714de1",
   "metadata": {},
   "source": [
    "# **1. Analizar problemas con el dataset**"
   ]
  },
  {
   "cell_type": "markdown",
   "id": "f9f48a8a",
   "metadata": {},
   "source": [
    "### **Tipos de datos y valores nulos**"
   ]
  },
  {
   "cell_type": "code",
   "execution_count": 3,
   "id": "d903653c",
   "metadata": {},
   "outputs": [
    {
     "name": "stdout",
     "output_type": "stream",
     "text": [
      "<class 'pandas.core.frame.DataFrame'>\n",
      "RangeIndex: 100 entries, 0 to 99\n",
      "Data columns (total 5 columns):\n",
      " #   Column          Non-Null Count  Dtype         \n",
      "---  ------          --------------  -----         \n",
      " 0   id_cliente      100 non-null    int64         \n",
      " 1   nombre_cliente  100 non-null    object        \n",
      " 2   email           100 non-null    object        \n",
      " 3   ciudad          100 non-null    object        \n",
      " 4   fecha_alta      100 non-null    datetime64[ns]\n",
      "dtypes: datetime64[ns](1), int64(1), object(3)\n",
      "memory usage: 4.0+ KB\n"
     ]
    }
   ],
   "source": [
    "df.info()"
   ]
  },
  {
   "cell_type": "markdown",
   "id": "5ae97b2a",
   "metadata": {},
   "source": [
    "### **Estadísticas generales**"
   ]
  },
  {
   "cell_type": "code",
   "execution_count": 4,
   "id": "38b038a0",
   "metadata": {},
   "outputs": [
    {
     "data": {
      "text/html": [
       "<div>\n",
       "<style scoped>\n",
       "    .dataframe tbody tr th:only-of-type {\n",
       "        vertical-align: middle;\n",
       "    }\n",
       "\n",
       "    .dataframe tbody tr th {\n",
       "        vertical-align: top;\n",
       "    }\n",
       "\n",
       "    .dataframe thead th {\n",
       "        text-align: right;\n",
       "    }\n",
       "</style>\n",
       "<table border=\"1\" class=\"dataframe\">\n",
       "  <thead>\n",
       "    <tr style=\"text-align: right;\">\n",
       "      <th></th>\n",
       "      <th>id_cliente</th>\n",
       "      <th>nombre_cliente</th>\n",
       "      <th>email</th>\n",
       "      <th>ciudad</th>\n",
       "      <th>fecha_alta</th>\n",
       "    </tr>\n",
       "  </thead>\n",
       "  <tbody>\n",
       "    <tr>\n",
       "      <th>count</th>\n",
       "      <td>100.000000</td>\n",
       "      <td>100</td>\n",
       "      <td>100</td>\n",
       "      <td>100</td>\n",
       "      <td>100</td>\n",
       "    </tr>\n",
       "    <tr>\n",
       "      <th>unique</th>\n",
       "      <td>NaN</td>\n",
       "      <td>95</td>\n",
       "      <td>100</td>\n",
       "      <td>6</td>\n",
       "      <td>NaN</td>\n",
       "    </tr>\n",
       "    <tr>\n",
       "      <th>top</th>\n",
       "      <td>NaN</td>\n",
       "      <td>Olivia Perez</td>\n",
       "      <td>mariana.lopez@mail.com</td>\n",
       "      <td>Rio Cuarto</td>\n",
       "      <td>NaN</td>\n",
       "    </tr>\n",
       "    <tr>\n",
       "      <th>freq</th>\n",
       "      <td>NaN</td>\n",
       "      <td>2</td>\n",
       "      <td>1</td>\n",
       "      <td>23</td>\n",
       "      <td>NaN</td>\n",
       "    </tr>\n",
       "    <tr>\n",
       "      <th>mean</th>\n",
       "      <td>50.500000</td>\n",
       "      <td>NaN</td>\n",
       "      <td>NaN</td>\n",
       "      <td>NaN</td>\n",
       "      <td>2023-02-19 12:00:00</td>\n",
       "    </tr>\n",
       "    <tr>\n",
       "      <th>min</th>\n",
       "      <td>1.000000</td>\n",
       "      <td>NaN</td>\n",
       "      <td>NaN</td>\n",
       "      <td>NaN</td>\n",
       "      <td>2023-01-01 00:00:00</td>\n",
       "    </tr>\n",
       "    <tr>\n",
       "      <th>25%</th>\n",
       "      <td>25.750000</td>\n",
       "      <td>NaN</td>\n",
       "      <td>NaN</td>\n",
       "      <td>NaN</td>\n",
       "      <td>2023-01-25 18:00:00</td>\n",
       "    </tr>\n",
       "    <tr>\n",
       "      <th>50%</th>\n",
       "      <td>50.500000</td>\n",
       "      <td>NaN</td>\n",
       "      <td>NaN</td>\n",
       "      <td>NaN</td>\n",
       "      <td>2023-02-19 12:00:00</td>\n",
       "    </tr>\n",
       "    <tr>\n",
       "      <th>75%</th>\n",
       "      <td>75.250000</td>\n",
       "      <td>NaN</td>\n",
       "      <td>NaN</td>\n",
       "      <td>NaN</td>\n",
       "      <td>2023-03-16 06:00:00</td>\n",
       "    </tr>\n",
       "    <tr>\n",
       "      <th>max</th>\n",
       "      <td>100.000000</td>\n",
       "      <td>NaN</td>\n",
       "      <td>NaN</td>\n",
       "      <td>NaN</td>\n",
       "      <td>2023-04-10 00:00:00</td>\n",
       "    </tr>\n",
       "    <tr>\n",
       "      <th>std</th>\n",
       "      <td>29.011492</td>\n",
       "      <td>NaN</td>\n",
       "      <td>NaN</td>\n",
       "      <td>NaN</td>\n",
       "      <td>NaN</td>\n",
       "    </tr>\n",
       "  </tbody>\n",
       "</table>\n",
       "</div>"
      ],
      "text/plain": [
       "        id_cliente nombre_cliente                   email      ciudad  \\\n",
       "count   100.000000            100                     100         100   \n",
       "unique         NaN             95                     100           6   \n",
       "top            NaN   Olivia Perez  mariana.lopez@mail.com  Rio Cuarto   \n",
       "freq           NaN              2                       1          23   \n",
       "mean     50.500000            NaN                     NaN         NaN   \n",
       "min       1.000000            NaN                     NaN         NaN   \n",
       "25%      25.750000            NaN                     NaN         NaN   \n",
       "50%      50.500000            NaN                     NaN         NaN   \n",
       "75%      75.250000            NaN                     NaN         NaN   \n",
       "max     100.000000            NaN                     NaN         NaN   \n",
       "std      29.011492            NaN                     NaN         NaN   \n",
       "\n",
       "                 fecha_alta  \n",
       "count                   100  \n",
       "unique                  NaN  \n",
       "top                     NaN  \n",
       "freq                    NaN  \n",
       "mean    2023-02-19 12:00:00  \n",
       "min     2023-01-01 00:00:00  \n",
       "25%     2023-01-25 18:00:00  \n",
       "50%     2023-02-19 12:00:00  \n",
       "75%     2023-03-16 06:00:00  \n",
       "max     2023-04-10 00:00:00  \n",
       "std                     NaN  "
      ]
     },
     "execution_count": 4,
     "metadata": {},
     "output_type": "execute_result"
    }
   ],
   "source": [
    "df.describe(include='all')\n"
   ]
  },
  {
   "cell_type": "markdown",
   "id": "5f61ad8a",
   "metadata": {},
   "source": [
    "### **Conteo de valores faltantes**"
   ]
  },
  {
   "cell_type": "code",
   "execution_count": 5,
   "id": "d0311b59",
   "metadata": {},
   "outputs": [
    {
     "data": {
      "text/plain": [
       "id_cliente        0\n",
       "nombre_cliente    0\n",
       "email             0\n",
       "ciudad            0\n",
       "fecha_alta        0\n",
       "dtype: int64"
      ]
     },
     "execution_count": 5,
     "metadata": {},
     "output_type": "execute_result"
    }
   ],
   "source": [
    "df.isnull().sum()"
   ]
  },
  {
   "cell_type": "markdown",
   "id": "aa649879",
   "metadata": {},
   "source": [
    "### **Conteo de filas duplicadas**"
   ]
  },
  {
   "cell_type": "code",
   "execution_count": 6,
   "id": "1b99caa0",
   "metadata": {},
   "outputs": [
    {
     "data": {
      "text/plain": [
       "np.int64(0)"
      ]
     },
     "execution_count": 6,
     "metadata": {},
     "output_type": "execute_result"
    }
   ],
   "source": [
    "df.duplicated().sum()"
   ]
  },
  {
   "cell_type": "markdown",
   "id": "545f3e3b",
   "metadata": {},
   "source": [
    "### **Frecuencia por ciudad**"
   ]
  },
  {
   "cell_type": "code",
   "execution_count": 7,
   "id": "39068f4d",
   "metadata": {},
   "outputs": [
    {
     "data": {
      "text/plain": [
       "ciudad\n",
       "Rio Cuarto     23\n",
       "Alta Gracia    21\n",
       "Carlos Paz     15\n",
       "Villa Maria    15\n",
       "Cordoba        13\n",
       "Mendiolaza     13\n",
       "Name: count, dtype: int64"
      ]
     },
     "execution_count": 7,
     "metadata": {},
     "output_type": "execute_result"
    }
   ],
   "source": [
    "df['ciudad'].value_counts() "
   ]
  },
  {
   "cell_type": "markdown",
   "id": "077a3ed3",
   "metadata": {},
   "source": [
    "### **Verificación de valores únicos en columnas categóricas**"
   ]
  },
  {
   "cell_type": "code",
   "execution_count": 8,
   "id": "42da20d8",
   "metadata": {},
   "outputs": [
    {
     "data": {
      "text/plain": [
       "array(['Carlos Paz', 'Rio Cuarto', 'Cordoba', 'Villa Maria',\n",
       "       'Alta Gracia', 'Mendiolaza'], dtype=object)"
      ]
     },
     "execution_count": 8,
     "metadata": {},
     "output_type": "execute_result"
    }
   ],
   "source": [
    "df['ciudad'].unique()"
   ]
  },
  {
   "cell_type": "markdown",
   "id": "f7ee416a",
   "metadata": {},
   "source": [
    "### **Verificación de formatos de email**"
   ]
  },
  {
   "cell_type": "code",
   "execution_count": 9,
   "id": "9db4f543",
   "metadata": {},
   "outputs": [
    {
     "data": {
      "text/plain": [
       "np.int64(100)"
      ]
     },
     "execution_count": 9,
     "metadata": {},
     "output_type": "execute_result"
    }
   ],
   "source": [
    "df['email'].str.contains('@', na=False).sum()"
   ]
  },
  {
   "cell_type": "markdown",
   "id": "adb33f09",
   "metadata": {},
   "source": [
    "# **2. Limpieza de datos**"
   ]
  },
  {
   "cell_type": "markdown",
   "id": "f0b1b555",
   "metadata": {},
   "source": [
    "### **Eliminación de filas duplicadas**"
   ]
  },
  {
   "cell_type": "code",
   "execution_count": 10,
   "id": "36cd4b8d",
   "metadata": {},
   "outputs": [],
   "source": [
    "df = df.drop_duplicates() "
   ]
  },
  {
   "cell_type": "markdown",
   "id": "4558f5e5",
   "metadata": {},
   "source": [
    "### **Convertir fechas a formato datetime**"
   ]
  },
  {
   "cell_type": "code",
   "execution_count": 11,
   "id": "6c229eba",
   "metadata": {},
   "outputs": [],
   "source": [
    "df['fecha_alta'] = pd.to_datetime(df['fecha_alta'], errors='coerce') "
   ]
  },
  {
   "cell_type": "markdown",
   "id": "fb3ffadb",
   "metadata": {},
   "source": [
    "### **Quitar espacios y capitalizar**"
   ]
  },
  {
   "cell_type": "code",
   "execution_count": 12,
   "id": "46e2e31c",
   "metadata": {},
   "outputs": [],
   "source": [
    "df['ciudad'] = df['ciudad'].str.strip().str.title()"
   ]
  },
  {
   "cell_type": "markdown",
   "id": "f74c58a5",
   "metadata": {},
   "source": [
    "### **Rellenar valores nulos en 'email' con un valor por defecto**"
   ]
  },
  {
   "cell_type": "code",
   "execution_count": 13,
   "id": "7bbc10f5",
   "metadata": {},
   "outputs": [],
   "source": [
    "df['email'] = df['email'].fillna('sin_email@desconocido.com') "
   ]
  },
  {
   "cell_type": "markdown",
   "id": "379bcab0",
   "metadata": {},
   "source": [
    "### **Eliminar filas con valores nulos en 'id_cliente' o 'nombre_cliente'**"
   ]
  },
  {
   "cell_type": "code",
   "execution_count": 14,
   "id": "ac44b6f2",
   "metadata": {},
   "outputs": [],
   "source": [
    "df = df.dropna(subset=['id_cliente', 'nombre_cliente']) "
   ]
  },
  {
   "cell_type": "markdown",
   "id": "e593f3ce",
   "metadata": {},
   "source": [
    "# **Estandarización**"
   ]
  },
  {
   "cell_type": "markdown",
   "id": "eaa58e22",
   "metadata": {},
   "source": [
    "### **Asegurar que todos los datos sigan el mismo formato:**\n",
    "- Nombres con mayúscula inicial\n",
    "- Correos electrónicos en minúsculas\n",
    "- Fechas en el mismo formato (YYYY-MM-DD)\n",
    "- Ciudades escritas igual (“CDMX”, no “cdmx”, “Ciudad de México”, etc.)"
   ]
  },
  {
   "cell_type": "code",
   "execution_count": 15,
   "id": "9efcd08d",
   "metadata": {},
   "outputs": [],
   "source": [
    "df['nombre_cliente'] = df['nombre_cliente'].str.title()\n",
    "df['email'] = df['email'].str.lower()\n",
    "df['ciudad'] = df['ciudad'].replace({\n",
    "    'Cd. De Mexico': 'Ciudad de México',\n",
    "    'Cdmx': 'Ciudad de México',\n",
    "    'Mexico City': 'Ciudad de México'\n",
    "})\n",
    "df['fecha_alta'] = df['fecha_alta'].dt.strftime('%Y-%m-%d')\n"
   ]
  },
  {
   "cell_type": "markdown",
   "id": "5b106113",
   "metadata": {},
   "source": [
    "# **3. Normalización de datos**"
   ]
  },
  {
   "cell_type": "markdown",
   "id": "df3f39ca",
   "metadata": {},
   "source": [
    "### **Normalización de IDs de cliente**"
   ]
  },
  {
   "cell_type": "code",
   "execution_count": 16,
   "id": "5e6d599f",
   "metadata": {},
   "outputs": [],
   "source": [
    "df['id_cliente'] = pd.to_numeric(df['id_cliente'], errors='coerce')"
   ]
  },
  {
   "cell_type": "markdown",
   "id": "a0e8d9b6",
   "metadata": {},
   "source": [
    "### **Normalización de nombres de cliente**"
   ]
  },
  {
   "cell_type": "code",
   "execution_count": 17,
   "id": "9f214321",
   "metadata": {},
   "outputs": [],
   "source": [
    "df['nombre_cliente'] = df['nombre_cliente'].str.strip().str.replace(r'\\s+', ' ', regex=True)"
   ]
  },
  {
   "cell_type": "markdown",
   "id": "2abbf943",
   "metadata": {},
   "source": [
    "### **Normalización de emails**"
   ]
  },
  {
   "cell_type": "code",
   "execution_count": 18,
   "id": "c4c6f7ff",
   "metadata": {},
   "outputs": [],
   "source": [
    "df['email'] = df['email'].str.strip().str.lower()\n",
    "df.drop_duplicates(subset=['email'], inplace=True)"
   ]
  },
  {
   "cell_type": "markdown",
   "id": "ea0ecd12",
   "metadata": {},
   "source": [
    "### **Normalización de ciudades (adicional)**"
   ]
  },
  {
   "cell_type": "code",
   "execution_count": 19,
   "id": "158db74e",
   "metadata": {},
   "outputs": [],
   "source": [
    "variaciones_adicionales = {\n",
    "    'Df': 'Ciudad de México',\n",
    "    'D.F.': 'Ciudad de México',\n",
    "    'Gdl': 'Guadalajara',\n",
    "    'Mty': 'Monterrey'\n",
    "}\n",
    "df['ciudad'] = df['ciudad'].replace(variaciones_adicionales)"
   ]
  },
  {
   "cell_type": "markdown",
   "id": "713d9fe1",
   "metadata": {},
   "source": [
    "### **Normalización de fechas**"
   ]
  },
  {
   "cell_type": "code",
   "execution_count": 20,
   "id": "ed58ee48",
   "metadata": {},
   "outputs": [],
   "source": [
    "df['fecha_alta'] = pd.to_datetime(df['fecha_alta'], errors='coerce')\n",
    "df['mes_alta'] = df['fecha_alta'].dt.month\n",
    "\n",
    "# Se genera la columna 'año_alta' para análisis temporal futuro"
   ]
  },
  {
   "cell_type": "markdown",
   "id": "ba95a2fa",
   "metadata": {},
   "source": [
    "# **4. Validación Post-Limpieza y Normalización**"
   ]
  },
  {
   "cell_type": "markdown",
   "id": "a015702c",
   "metadata": {},
   "source": [
    "### **Verificar el resultado de la limpieza**"
   ]
  },
  {
   "cell_type": "code",
   "execution_count": 21,
   "id": "e0cf430c",
   "metadata": {},
   "outputs": [
    {
     "name": "stdout",
     "output_type": "stream",
     "text": [
      "<class 'pandas.core.frame.DataFrame'>\n",
      "RangeIndex: 100 entries, 0 to 99\n",
      "Data columns (total 6 columns):\n",
      " #   Column          Non-Null Count  Dtype         \n",
      "---  ------          --------------  -----         \n",
      " 0   id_cliente      100 non-null    int64         \n",
      " 1   nombre_cliente  100 non-null    object        \n",
      " 2   email           100 non-null    object        \n",
      " 3   ciudad          100 non-null    object        \n",
      " 4   fecha_alta      100 non-null    datetime64[ns]\n",
      " 5   mes_alta        100 non-null    int32         \n",
      "dtypes: datetime64[ns](1), int32(1), int64(1), object(3)\n",
      "memory usage: 4.4+ KB\n"
     ]
    },
    {
     "data": {
      "text/html": [
       "<div>\n",
       "<style scoped>\n",
       "    .dataframe tbody tr th:only-of-type {\n",
       "        vertical-align: middle;\n",
       "    }\n",
       "\n",
       "    .dataframe tbody tr th {\n",
       "        vertical-align: top;\n",
       "    }\n",
       "\n",
       "    .dataframe thead th {\n",
       "        text-align: right;\n",
       "    }\n",
       "</style>\n",
       "<table border=\"1\" class=\"dataframe\">\n",
       "  <thead>\n",
       "    <tr style=\"text-align: right;\">\n",
       "      <th></th>\n",
       "      <th>id_cliente</th>\n",
       "      <th>nombre_cliente</th>\n",
       "      <th>email</th>\n",
       "      <th>ciudad</th>\n",
       "      <th>fecha_alta</th>\n",
       "      <th>mes_alta</th>\n",
       "    </tr>\n",
       "  </thead>\n",
       "  <tbody>\n",
       "    <tr>\n",
       "      <th>0</th>\n",
       "      <td>1</td>\n",
       "      <td>Mariana Lopez</td>\n",
       "      <td>mariana.lopez@mail.com</td>\n",
       "      <td>Carlos Paz</td>\n",
       "      <td>2023-01-01</td>\n",
       "      <td>1</td>\n",
       "    </tr>\n",
       "    <tr>\n",
       "      <th>1</th>\n",
       "      <td>2</td>\n",
       "      <td>Nicolas Rojas</td>\n",
       "      <td>nicolas.rojas@mail.com</td>\n",
       "      <td>Carlos Paz</td>\n",
       "      <td>2023-01-02</td>\n",
       "      <td>1</td>\n",
       "    </tr>\n",
       "    <tr>\n",
       "      <th>2</th>\n",
       "      <td>3</td>\n",
       "      <td>Hernan Martinez</td>\n",
       "      <td>hernan.martinez@mail.com</td>\n",
       "      <td>Rio Cuarto</td>\n",
       "      <td>2023-01-03</td>\n",
       "      <td>1</td>\n",
       "    </tr>\n",
       "    <tr>\n",
       "      <th>3</th>\n",
       "      <td>4</td>\n",
       "      <td>Uma Martinez</td>\n",
       "      <td>uma.martinez@mail.com</td>\n",
       "      <td>Carlos Paz</td>\n",
       "      <td>2023-01-04</td>\n",
       "      <td>1</td>\n",
       "    </tr>\n",
       "    <tr>\n",
       "      <th>4</th>\n",
       "      <td>5</td>\n",
       "      <td>Agustina Flores</td>\n",
       "      <td>agustina.flores@mail.com</td>\n",
       "      <td>Cordoba</td>\n",
       "      <td>2023-01-05</td>\n",
       "      <td>1</td>\n",
       "    </tr>\n",
       "  </tbody>\n",
       "</table>\n",
       "</div>"
      ],
      "text/plain": [
       "   id_cliente   nombre_cliente                     email      ciudad  \\\n",
       "0           1    Mariana Lopez    mariana.lopez@mail.com  Carlos Paz   \n",
       "1           2    Nicolas Rojas    nicolas.rojas@mail.com  Carlos Paz   \n",
       "2           3  Hernan Martinez  hernan.martinez@mail.com  Rio Cuarto   \n",
       "3           4     Uma Martinez     uma.martinez@mail.com  Carlos Paz   \n",
       "4           5  Agustina Flores  agustina.flores@mail.com     Cordoba   \n",
       "\n",
       "  fecha_alta  mes_alta  \n",
       "0 2023-01-01         1  \n",
       "1 2023-01-02         1  \n",
       "2 2023-01-03         1  \n",
       "3 2023-01-04         1  \n",
       "4 2023-01-05         1  "
      ]
     },
     "execution_count": 21,
     "metadata": {},
     "output_type": "execute_result"
    }
   ],
   "source": [
    "df.info()\n",
    "df.head()"
   ]
  },
  {
   "cell_type": "markdown",
   "id": "6eb2fb29",
   "metadata": {},
   "source": [
    "### **Comparación antes vs después**"
   ]
  },
  {
   "cell_type": "markdown",
   "id": "48f31b5e",
   "metadata": {},
   "source": [
    "# **5. Exportar datos limpios y normalizados**"
   ]
  },
  {
   "cell_type": "code",
   "execution_count": 22,
   "id": "f0f115ed",
   "metadata": {},
   "outputs": [],
   "source": [
    "df.to_csv('../Base_de_datos_limpia/Clientes_limpio.csv', index=False)"
   ]
  }
 ],
 "metadata": {
  "kernelspec": {
   "display_name": "IBM-Python (3.12.3)",
   "language": "python",
   "name": "python3"
  },
  "language_info": {
   "codemirror_mode": {
    "name": "ipython",
    "version": 3
   },
   "file_extension": ".py",
   "mimetype": "text/x-python",
   "name": "python",
   "nbconvert_exporter": "python",
   "pygments_lexer": "ipython3",
   "version": "3.12.3"
  }
 },
 "nbformat": 4,
 "nbformat_minor": 5
}
