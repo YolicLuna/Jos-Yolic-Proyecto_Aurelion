{
 "cells": [
  {
   "cell_type": "markdown",
   "id": "e9ac5776",
   "metadata": {},
   "source": [
    "# ============================================\n",
    "# ANÁLISIS ESTADÍSTICO DESCRIPTIVO - CLIENTES\n",
    "# ============================================"
   ]
  },
  {
   "cell_type": "code",
   "execution_count": 14,
   "id": "adf3de5c",
   "metadata": {},
   "outputs": [],
   "source": [
    "import pandas as pd\n",
    "import numpy as np\n",
    "import matplotlib.pyplot as plt\n",
    "import seaborn as sns\n",
    "\n",
    "# Configuración estética\n",
    "plt.style.use('seaborn-v0_8-whitegrid')\n",
    "sns.set_palette('pastel')\n"
   ]
  },
  {
   "cell_type": "markdown",
   "id": "f5546136",
   "metadata": {},
   "source": [
    "### **Cargar el dataset**"
   ]
  },
  {
   "cell_type": "code",
   "execution_count": 15,
   "id": "a870f596",
   "metadata": {},
   "outputs": [],
   "source": [
    "clientes = pd.read_csv('../Base_de_datos_limpia/Clientes_limpio.csv')\n"
   ]
  },
  {
   "cell_type": "markdown",
   "id": "769e440f",
   "metadata": {},
   "source": [
    "### **Inspección general**"
   ]
  },
  {
   "cell_type": "code",
   "execution_count": 16,
   "id": "ca5f747c",
   "metadata": {},
   "outputs": [
    {
     "name": "stdout",
     "output_type": "stream",
     "text": [
      "Primeras filas del dataset:\n"
     ]
    },
    {
     "data": {
      "text/html": [
       "<div>\n",
       "<style scoped>\n",
       "    .dataframe tbody tr th:only-of-type {\n",
       "        vertical-align: middle;\n",
       "    }\n",
       "\n",
       "    .dataframe tbody tr th {\n",
       "        vertical-align: top;\n",
       "    }\n",
       "\n",
       "    .dataframe thead th {\n",
       "        text-align: right;\n",
       "    }\n",
       "</style>\n",
       "<table border=\"1\" class=\"dataframe\">\n",
       "  <thead>\n",
       "    <tr style=\"text-align: right;\">\n",
       "      <th></th>\n",
       "      <th>id_cliente</th>\n",
       "      <th>nombre_cliente</th>\n",
       "      <th>email</th>\n",
       "      <th>ciudad</th>\n",
       "      <th>fecha_alta</th>\n",
       "      <th>mes_alta</th>\n",
       "    </tr>\n",
       "  </thead>\n",
       "  <tbody>\n",
       "    <tr>\n",
       "      <th>0</th>\n",
       "      <td>1</td>\n",
       "      <td>Mariana Lopez</td>\n",
       "      <td>mariana.lopez@mail.com</td>\n",
       "      <td>Carlos Paz</td>\n",
       "      <td>2023-01-01</td>\n",
       "      <td>1</td>\n",
       "    </tr>\n",
       "    <tr>\n",
       "      <th>1</th>\n",
       "      <td>2</td>\n",
       "      <td>Nicolas Rojas</td>\n",
       "      <td>nicolas.rojas@mail.com</td>\n",
       "      <td>Carlos Paz</td>\n",
       "      <td>2023-01-02</td>\n",
       "      <td>1</td>\n",
       "    </tr>\n",
       "    <tr>\n",
       "      <th>2</th>\n",
       "      <td>3</td>\n",
       "      <td>Hernan Martinez</td>\n",
       "      <td>hernan.martinez@mail.com</td>\n",
       "      <td>Rio Cuarto</td>\n",
       "      <td>2023-01-03</td>\n",
       "      <td>1</td>\n",
       "    </tr>\n",
       "    <tr>\n",
       "      <th>3</th>\n",
       "      <td>4</td>\n",
       "      <td>Uma Martinez</td>\n",
       "      <td>uma.martinez@mail.com</td>\n",
       "      <td>Carlos Paz</td>\n",
       "      <td>2023-01-04</td>\n",
       "      <td>1</td>\n",
       "    </tr>\n",
       "    <tr>\n",
       "      <th>4</th>\n",
       "      <td>5</td>\n",
       "      <td>Agustina Flores</td>\n",
       "      <td>agustina.flores@mail.com</td>\n",
       "      <td>Cordoba</td>\n",
       "      <td>2023-01-05</td>\n",
       "      <td>1</td>\n",
       "    </tr>\n",
       "  </tbody>\n",
       "</table>\n",
       "</div>"
      ],
      "text/plain": [
       "   id_cliente   nombre_cliente                     email      ciudad  \\\n",
       "0           1    Mariana Lopez    mariana.lopez@mail.com  Carlos Paz   \n",
       "1           2    Nicolas Rojas    nicolas.rojas@mail.com  Carlos Paz   \n",
       "2           3  Hernan Martinez  hernan.martinez@mail.com  Rio Cuarto   \n",
       "3           4     Uma Martinez     uma.martinez@mail.com  Carlos Paz   \n",
       "4           5  Agustina Flores  agustina.flores@mail.com     Cordoba   \n",
       "\n",
       "   fecha_alta  mes_alta  \n",
       "0  2023-01-01         1  \n",
       "1  2023-01-02         1  \n",
       "2  2023-01-03         1  \n",
       "3  2023-01-04         1  \n",
       "4  2023-01-05         1  "
      ]
     },
     "metadata": {},
     "output_type": "display_data"
    },
    {
     "name": "stdout",
     "output_type": "stream",
     "text": [
      "\n",
      "Información general del dataset:\n",
      "<class 'pandas.core.frame.DataFrame'>\n",
      "RangeIndex: 100 entries, 0 to 99\n",
      "Data columns (total 6 columns):\n",
      " #   Column          Non-Null Count  Dtype \n",
      "---  ------          --------------  ----- \n",
      " 0   id_cliente      100 non-null    int64 \n",
      " 1   nombre_cliente  100 non-null    object\n",
      " 2   email           100 non-null    object\n",
      " 3   ciudad          100 non-null    object\n",
      " 4   fecha_alta      100 non-null    object\n",
      " 5   mes_alta        100 non-null    int64 \n",
      "dtypes: int64(2), object(4)\n",
      "memory usage: 4.8+ KB\n",
      "None\n",
      "\n",
      "Resumen estadístico:\n"
     ]
    },
    {
     "data": {
      "text/html": [
       "<div>\n",
       "<style scoped>\n",
       "    .dataframe tbody tr th:only-of-type {\n",
       "        vertical-align: middle;\n",
       "    }\n",
       "\n",
       "    .dataframe tbody tr th {\n",
       "        vertical-align: top;\n",
       "    }\n",
       "\n",
       "    .dataframe thead th {\n",
       "        text-align: right;\n",
       "    }\n",
       "</style>\n",
       "<table border=\"1\" class=\"dataframe\">\n",
       "  <thead>\n",
       "    <tr style=\"text-align: right;\">\n",
       "      <th></th>\n",
       "      <th>id_cliente</th>\n",
       "      <th>nombre_cliente</th>\n",
       "      <th>email</th>\n",
       "      <th>ciudad</th>\n",
       "      <th>fecha_alta</th>\n",
       "      <th>mes_alta</th>\n",
       "    </tr>\n",
       "  </thead>\n",
       "  <tbody>\n",
       "    <tr>\n",
       "      <th>count</th>\n",
       "      <td>100.000000</td>\n",
       "      <td>100</td>\n",
       "      <td>100</td>\n",
       "      <td>100</td>\n",
       "      <td>100</td>\n",
       "      <td>100.000000</td>\n",
       "    </tr>\n",
       "    <tr>\n",
       "      <th>unique</th>\n",
       "      <td>NaN</td>\n",
       "      <td>95</td>\n",
       "      <td>100</td>\n",
       "      <td>6</td>\n",
       "      <td>100</td>\n",
       "      <td>NaN</td>\n",
       "    </tr>\n",
       "    <tr>\n",
       "      <th>top</th>\n",
       "      <td>NaN</td>\n",
       "      <td>Olivia Perez</td>\n",
       "      <td>mariana.lopez@mail.com</td>\n",
       "      <td>Rio Cuarto</td>\n",
       "      <td>2023-01-01</td>\n",
       "      <td>NaN</td>\n",
       "    </tr>\n",
       "    <tr>\n",
       "      <th>freq</th>\n",
       "      <td>NaN</td>\n",
       "      <td>2</td>\n",
       "      <td>1</td>\n",
       "      <td>23</td>\n",
       "      <td>1</td>\n",
       "      <td>NaN</td>\n",
       "    </tr>\n",
       "    <tr>\n",
       "      <th>mean</th>\n",
       "      <td>50.500000</td>\n",
       "      <td>NaN</td>\n",
       "      <td>NaN</td>\n",
       "      <td>NaN</td>\n",
       "      <td>NaN</td>\n",
       "      <td>2.200000</td>\n",
       "    </tr>\n",
       "    <tr>\n",
       "      <th>std</th>\n",
       "      <td>29.011492</td>\n",
       "      <td>NaN</td>\n",
       "      <td>NaN</td>\n",
       "      <td>NaN</td>\n",
       "      <td>NaN</td>\n",
       "      <td>0.994937</td>\n",
       "    </tr>\n",
       "    <tr>\n",
       "      <th>min</th>\n",
       "      <td>1.000000</td>\n",
       "      <td>NaN</td>\n",
       "      <td>NaN</td>\n",
       "      <td>NaN</td>\n",
       "      <td>NaN</td>\n",
       "      <td>1.000000</td>\n",
       "    </tr>\n",
       "    <tr>\n",
       "      <th>25%</th>\n",
       "      <td>25.750000</td>\n",
       "      <td>NaN</td>\n",
       "      <td>NaN</td>\n",
       "      <td>NaN</td>\n",
       "      <td>NaN</td>\n",
       "      <td>1.000000</td>\n",
       "    </tr>\n",
       "    <tr>\n",
       "      <th>50%</th>\n",
       "      <td>50.500000</td>\n",
       "      <td>NaN</td>\n",
       "      <td>NaN</td>\n",
       "      <td>NaN</td>\n",
       "      <td>NaN</td>\n",
       "      <td>2.000000</td>\n",
       "    </tr>\n",
       "    <tr>\n",
       "      <th>75%</th>\n",
       "      <td>75.250000</td>\n",
       "      <td>NaN</td>\n",
       "      <td>NaN</td>\n",
       "      <td>NaN</td>\n",
       "      <td>NaN</td>\n",
       "      <td>3.000000</td>\n",
       "    </tr>\n",
       "    <tr>\n",
       "      <th>max</th>\n",
       "      <td>100.000000</td>\n",
       "      <td>NaN</td>\n",
       "      <td>NaN</td>\n",
       "      <td>NaN</td>\n",
       "      <td>NaN</td>\n",
       "      <td>4.000000</td>\n",
       "    </tr>\n",
       "  </tbody>\n",
       "</table>\n",
       "</div>"
      ],
      "text/plain": [
       "        id_cliente nombre_cliente                   email      ciudad  \\\n",
       "count   100.000000            100                     100         100   \n",
       "unique         NaN             95                     100           6   \n",
       "top            NaN   Olivia Perez  mariana.lopez@mail.com  Rio Cuarto   \n",
       "freq           NaN              2                       1          23   \n",
       "mean     50.500000            NaN                     NaN         NaN   \n",
       "std      29.011492            NaN                     NaN         NaN   \n",
       "min       1.000000            NaN                     NaN         NaN   \n",
       "25%      25.750000            NaN                     NaN         NaN   \n",
       "50%      50.500000            NaN                     NaN         NaN   \n",
       "75%      75.250000            NaN                     NaN         NaN   \n",
       "max     100.000000            NaN                     NaN         NaN   \n",
       "\n",
       "        fecha_alta    mes_alta  \n",
       "count          100  100.000000  \n",
       "unique         100         NaN  \n",
       "top     2023-01-01         NaN  \n",
       "freq             1         NaN  \n",
       "mean           NaN    2.200000  \n",
       "std            NaN    0.994937  \n",
       "min            NaN    1.000000  \n",
       "25%            NaN    1.000000  \n",
       "50%            NaN    2.000000  \n",
       "75%            NaN    3.000000  \n",
       "max            NaN    4.000000  "
      ]
     },
     "metadata": {},
     "output_type": "display_data"
    }
   ],
   "source": [
    "print(\"Primeras filas del dataset:\")\n",
    "display(clientes.head())\n",
    "\n",
    "print(\"\\nInformación general del dataset:\")\n",
    "print(clientes.info())\n",
    "\n",
    "print(\"\\nResumen estadístico:\")\n",
    "display(clientes.describe(include='all'))"
   ]
  },
  {
   "cell_type": "markdown",
   "id": "1a0175f1",
   "metadata": {},
   "source": [
    "### **Análisis de variables categóricas**"
   ]
  },
  {
   "cell_type": "code",
   "execution_count": 17,
   "id": "5182edf4",
   "metadata": {},
   "outputs": [
    {
     "name": "stdout",
     "output_type": "stream",
     "text": [
      "\n",
      "Cantidad de clientes por ciudad:\n",
      "ciudad\n",
      "Rio Cuarto     23\n",
      "Alta Gracia    21\n",
      "Carlos Paz     15\n",
      "Villa Maria    15\n",
      "Cordoba        13\n",
      "Mendiolaza     13\n",
      "Name: count, dtype: int64\n"
     ]
    },
    {
     "data": {
      "image/png": "[encoded data removed]",
      "text/plain": [
       "<Figure size 800x500 with 1 Axes>"
      ]
     },
     "metadata": {},
     "output_type": "display_data"
    }
   ],
   "source": [
    "\n",
    "# Ciudad con más clientes\n",
    "clientes_por_ciudad = clientes['ciudad'].value_counts()\n",
    "\n",
    "print(\"\\nCantidad de clientes por ciudad:\")\n",
    "print(clientes_por_ciudad)\n",
    "\n",
    "# Gráfico de barras por ciudad\n",
    "plt.figure(figsize=(8, 5))\n",
    "sns.barplot(x=clientes_por_ciudad.index, y=clientes_por_ciudad.values)\n",
    "plt.title('Clientes por ciudad')\n",
    "plt.xlabel('Ciudad')\n",
    "plt.ylabel('Cantidad de clientes')\n",
    "plt.xticks(rotation=45)\n",
    "plt.show()"
   ]
  },
  {
   "cell_type": "markdown",
   "id": "c55355fa",
   "metadata": {},
   "source": [
    "### **Análisis de variables temporales**"
   ]
  },
  {
   "cell_type": "code",
   "execution_count": 19,
   "id": "6d051c4a",
   "metadata": {},
   "outputs": [
    {
     "data": {
      "image/png": "[encoded data removed]",
      "text/plain": [
       "<Figure size 800x500 with 1 Axes>"
      ]
     },
     "metadata": {},
     "output_type": "display_data"
    }
   ],
   "source": [
    "# --- Clientes por mes ---\n",
    "# Si ya tienes la columna mes_alta, la usamos directamente\n",
    "clientes_por_mes = clientes['mes_alta'].value_counts().sort_index()\n",
    "\n",
    "plt.figure(figsize=(8, 5))\n",
    "sns.barplot(x=clientes_por_mes.index, y=clientes_por_mes.values)\n",
    "plt.title('Altas de clientes por mes')\n",
    "plt.xlabel('Mes de alta')\n",
    "plt.ylabel('Cantidad de clientes')\n",
    "plt.show()"
   ]
  },
  {
   "cell_type": "markdown",
   "id": "580f7b5a",
   "metadata": {},
   "source": [
    "### **Estadísticas descriptivas generales**\n"
   ]
  },
  {
   "cell_type": "code",
   "execution_count": 20,
   "id": "5cadc34d",
   "metadata": {},
   "outputs": [
    {
     "name": "stdout",
     "output_type": "stream",
     "text": [
      "\n",
      "📊 Resumen general:\n",
      "Total de clientes: 100\n",
      "Total de ciudades: 6\n",
      "Primer alta registrada: 2023-01-01\n",
      "Última alta registrada: 2023-04-10\n"
     ]
    }
   ],
   "source": [
    "total_clientes = clientes['id_cliente'].nunique()\n",
    "total_ciudades = clientes['ciudad'].nunique()\n",
    "primer_alta = clientes['fecha_alta'].min()\n",
    "ultima_alta = clientes['fecha_alta'].max()\n",
    "\n",
    "print(f\"\\n📊 Resumen general:\")\n",
    "print(f\"Total de clientes: {total_clientes}\")\n",
    "print(f\"Total de ciudades: {total_ciudades}\")\n",
    "print(f\"Primer alta registrada: {primer_alta.date()}\")\n",
    "print(f\"Última alta registrada: {ultima_alta.date()}\")"
   ]
  }
 ],
 "metadata": {
  "kernelspec": {
   "display_name": "IBM-Python (3.12.3)",
   "language": "python",
   "name": "python3"
  },
  "language_info": {
   "codemirror_mode": {
    "name": "ipython",
    "version": 3
   },
   "file_extension": ".py",
   "mimetype": "text/x-python",
   "name": "python",
   "nbconvert_exporter": "python",
   "pygments_lexer": "ipython3",
   "version": "3.12.3"
  }
 },
 "nbformat": 4,
 "nbformat_minor": 5
}
